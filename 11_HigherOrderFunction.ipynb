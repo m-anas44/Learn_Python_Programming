{
 "cells": [
  {
   "cell_type": "markdown",
   "id": "2f27faaa",
   "metadata": {},
   "source": [
    "### **Introduction**\n",
    "In Python, functions that take other functions as arguments or return functions as outputs are called **higher-order functions**. These functions are integral in improving programming skills, enhancing code readability, and enabling modular code. This document explains the concept of higher-order functions in Python, followed by detailed examples of some commonly used higher-order functions like `map`, `filter`, `reduce`, `zip`, and `enumerate`.\n",
    "\n",
    "### **What Are Higher-Order Functions?**\n",
    "A higher-order function is a function that:\n",
    "- Takes another function as an argument or\n",
    "- Returns a function as its result.\n",
    "In simpler terms, it is a function that operates on other functions.\n",
    "\n",
    "#### **Real-Life Example**\n",
    "- Imagine an organization where various team heads oversee specific tasks. When a task comes in, the head (like a higher-order function) doesn't perform the task directly. Instead, the head delegates the task to a team member (function) to handle it. Thus, one function calls another function to perform its action.\n",
    "\n",
    "- Another example is in a restaurant, where a recipe (task) is handed to the head chef. Instead of preparing the dish themselves, the head chef delegates it to a junior chef (a function), who then prepares the dish and returns the result.\n",
    "\n",
    "This concept is key in Python's higher-order functions.\n",
    "\n",
    "### **Common Higher-Order Functions in Python**"
   ]
  },
  {
   "cell_type": "markdown",
   "id": "9be3a22f",
   "metadata": {},
   "source": [
    "#### **1. Map Function**\n",
    "The `map` function applies a given function to each item of an iterable (e.g., list, tuple) and returns a list of the results.\n",
    "\n",
    "**Example:**"
   ]
  },
  {
   "cell_type": "code",
   "execution_count": 1,
   "id": "aba9ce2a",
   "metadata": {},
   "outputs": [
    {
     "name": "stdout",
     "output_type": "stream",
     "text": [
      "[2, 4, 6, 8, 10]\n"
     ]
    }
   ],
   "source": [
    "def double(x):\n",
    "    return x * 2\n",
    "\n",
    "numbers = [1, 2, 3, 4, 5]\n",
    "doubled_numbers = list(map(double, numbers))\n",
    "print(doubled_numbers)"
   ]
  },
  {
   "cell_type": "markdown",
   "id": "a07a7551",
   "metadata": {},
   "source": [
    "#### **2. Filter Function**\n",
    "The `filter` function filters elements in an iterable based on a condition defined by a function. It only returns elements that satisfy the condition.\n",
    "\n",
    "**Example:**"
   ]
  },
  {
   "cell_type": "code",
   "execution_count": 2,
   "id": "6835f29a",
   "metadata": {},
   "outputs": [
    {
     "name": "stdout",
     "output_type": "stream",
     "text": [
      "[2, 4, 6]\n"
     ]
    }
   ],
   "source": [
    "def is_even(x):\n",
    "    return x % 2 == 0\n",
    "\n",
    "numbers = [1, 2, 3, 4, 5, 6]\n",
    "even_numbers = list(filter(is_even, numbers))\n",
    "print(even_numbers)"
   ]
  },
  {
   "cell_type": "markdown",
   "id": "0463e108",
   "metadata": {},
   "source": [
    "#### **3. Reduce Function**\n",
    "The `reduce` function takes a function and an iterable, and applies the function cumulatively to the items in the iterable, returning a single output.\n",
    "\n",
    "To use `reduce`, it must be imported from the `functools` module.\n",
    "\n",
    "**Example:**"
   ]
  },
  {
   "cell_type": "code",
   "execution_count": 3,
   "id": "1ae67a75",
   "metadata": {},
   "outputs": [
    {
     "name": "stdout",
     "output_type": "stream",
     "text": [
      "120\n"
     ]
    }
   ],
   "source": [
    "from functools import reduce\n",
    "\n",
    "def multiply(x, y):\n",
    "    return x * y \n",
    "\n",
    "numbers = [1, 2, 3, 4, 5]\n",
    "result = reduce(multiply, numbers)\n",
    "print(result)"
   ]
  },
  {
   "cell_type": "markdown",
   "id": "12fb0b26",
   "metadata": {},
   "source": [
    "#### **4. Zip Function**\n",
    "The `zip` function combines two or more iterables into tuples, pairing elements from each iterable in the corresponding order.\n",
    "\n",
    "**Example:**"
   ]
  },
  {
   "cell_type": "code",
   "execution_count": 4,
   "id": "c1e3c84b",
   "metadata": {},
   "outputs": [
    {
     "name": "stdout",
     "output_type": "stream",
     "text": [
      "[('Alice', 25), ('Bob', 30), ('Charlie', 35)]\n"
     ]
    }
   ],
   "source": [
    "names = ['Alice', 'Bob', 'Charlie']\n",
    "ages = [25, 30, 35]\n",
    "\n",
    "zipped = list(zip(names, ages))\n",
    "print(zipped)"
   ]
  },
  {
   "cell_type": "markdown",
   "id": "0a8426e2",
   "metadata": {},
   "source": [
    "#### **5. Enumerate Function**\n",
    "The `enumerate` function adds an index to each item in an iterable. It is useful when you need to track the index of items in a loop.\n",
    "\n",
    "**Example:**"
   ]
  },
  {
   "cell_type": "code",
   "execution_count": 6,
   "id": "5cec61fa",
   "metadata": {},
   "outputs": [
    {
     "name": "stdout",
     "output_type": "stream",
     "text": [
      "2. apple\n",
      "3. banana\n",
      "4. cherry\n"
     ]
    }
   ],
   "source": [
    "fruits = ['apple', 'banana', 'cherry']\n",
    "for index, fruit in enumerate(fruits, start=2):\n",
    "    print(f\"{index}. {fruit}\")"
   ]
  },
  {
   "cell_type": "markdown",
   "id": "63c3b44c",
   "metadata": {},
   "source": [
    "### **Best Practices**\n",
    "- **Map and Filter:** Use map and filter functions for simple operations. However, consider using list comprehensions for better readability.\n",
    "- **Reduce:** Only use reduce when absolutely necessary. In most cases, loops can be a more readable and efficient alternative.\n",
    "- **Zip:** Use zip when you need to pair items from multiple iterables into tuples.\n",
    "- **Enumerate:** Use enumerate when you need to manipulate or track the index of items in an iterable."
   ]
  }
 ],
 "metadata": {
  "kernelspec": {
   "display_name": "env3_10",
   "language": "python",
   "name": "python3"
  },
  "language_info": {
   "codemirror_mode": {
    "name": "ipython",
    "version": 3
   },
   "file_extension": ".py",
   "mimetype": "text/x-python",
   "name": "python",
   "nbconvert_exporter": "python",
   "pygments_lexer": "ipython3",
   "version": "3.10.16"
  }
 },
 "nbformat": 4,
 "nbformat_minor": 5
}
