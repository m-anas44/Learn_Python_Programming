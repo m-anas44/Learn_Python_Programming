{
 "cells": [
  {
   "cell_type": "markdown",
   "id": "820b834c",
   "metadata": {},
   "source": [
    "### **1. Restaurant:**\n",
    "- Make a class called Restaurant. The `__init__()` method for Restaurant should store two attributes: a **restaurant_name** and a **cuisine_type**.\n",
    "- Make a method called *describe_restaurant()* that prints these two pieces of information, and a method called *open_restaurant()* that prints a message indicating that the restaurant is open.\n",
    "- Make an instance called restaurant from your class. Print the two attributes individually, and then call both methods."
   ]
  },
  {
   "cell_type": "code",
   "execution_count": 4,
   "id": "74097320",
   "metadata": {},
   "outputs": [
    {
     "name": "stdout",
     "output_type": "stream",
     "text": [
      "E-Cafe carries delicious tastes with Fast Foods\n",
      "The Restaurant is now open!\n"
     ]
    }
   ],
   "source": [
    "class Restaurant:\n",
    "    def __init__(self, restaurant_name, cuisine_type):\n",
    "        self.restaurant_name = restaurant_name\n",
    "        self.cuisine_type = cuisine_type\n",
    "\n",
    "    def describe_restaurant(self):\n",
    "        print(f\"{self.restaurant_name} carries delicious tastes with {self.cuisine_type}\")\n",
    "\n",
    "    def open_restaurant(self):\n",
    "        print(\"The Restaurant is now open!\")\n",
    "\n",
    "my_restaurant = Restaurant(\"E-Cafe\", \"Fast Foods\")\n",
    "my_restaurant.describe_restaurant()\n",
    "my_restaurant.open_restaurant()"
   ]
  },
  {
   "cell_type": "markdown",
   "id": "2acc24d6",
   "metadata": {},
   "source": [
    "### **2. Three Restaurants:** \n",
    "Start with your class from Exercise 1. Create three different instances from the class, and call describe_restaurant() for each\n",
    "instance."
   ]
  },
  {
   "cell_type": "code",
   "execution_count": 5,
   "id": "393b6776",
   "metadata": {},
   "outputs": [
    {
     "name": "stdout",
     "output_type": "stream",
     "text": [
      "Naveed Tikka carries delicious tastes with BBQ\n",
      "E-Cafe carries delicious tastes with Fast Foods\n",
      "Chamman carries delicious tastes with Ice cream\n"
     ]
    }
   ],
   "source": [
    "my_restaurant = Restaurant(\"Naveed Tikka\", \"BBQ\")\n",
    "nearer_restaurant = Restaurant(\"E-Cafe\", \"Fast Foods\")\n",
    "far_restaurant = Restaurant(\"Chamman\", \"Ice cream\")\n",
    "\n",
    "my_restaurant.describe_restaurant()\n",
    "nearer_restaurant.describe_restaurant()\n",
    "far_restaurant.describe_restaurant()"
   ]
  },
  {
   "cell_type": "markdown",
   "id": "9bfa095e",
   "metadata": {},
   "source": [
    "### **3. Users:**\n",
    "- Make a class called User. Create two attributes called **first_name** and **last_name**, and then create several other attributes that are typically stored in a user profile. \n",
    "- Make a method called **describe_user()** that prints a summary of the user’s information. \n",
    "- Make another method called **greet_user()** that prints a personalized greeting to the user.\n",
    "- Create several instances representing different users, and call both methods for each user."
   ]
  },
  {
   "cell_type": "code",
   "execution_count": 8,
   "id": "e21fcae9",
   "metadata": {},
   "outputs": [
    {
     "name": "stdout",
     "output_type": "stream",
     "text": [
      "Name: Anas Ansari\n",
      "Age: 20\n",
      "Gender: Male\n",
      "Greetings, Welcome Anas!\n",
      "\n",
      "Name: Altaf Hussain\n",
      "Age: 25\n",
      "Gender: Male\n",
      "Greetings, Welcome Altaf!\n",
      "\n",
      "Name: Jenna Ortega\n",
      "Age: 21\n",
      "Gender: female\n",
      "Greetings, Welcome Jenna!\n",
      "\n"
     ]
    }
   ],
   "source": [
    "class User:\n",
    "    def __init__(self, first_name, last_name, age, gender):\n",
    "        self.first_name = first_name\n",
    "        self.last_name = last_name\n",
    "        self.age = age\n",
    "        self.gender = gender\n",
    "\n",
    "    def describe_user(self):\n",
    "        print(f\"Name: {self.first_name} {self.last_name}\\nAge: {self.age}\\nGender: {self.gender}\")\n",
    "\n",
    "    def greet_user(self):\n",
    "        print(f\"Greetings, Welcome {self.first_name}!\\n\")\n",
    "\n",
    "user1 = User(\"Anas\", \"Ansari\", 20, \"Male\")\n",
    "user2 = User(\"Altaf\", \"Hussain\", 25, \"Male\")\n",
    "user3 = User(\"Jenna\", \"Ortega\", 21, \"female\")\n",
    "\n",
    "user1.describe_user()\n",
    "user1.greet_user()\n",
    "user2.describe_user()\n",
    "user2.greet_user()\n",
    "user3.describe_user()\n",
    "user3.greet_user()"
   ]
  },
  {
   "cell_type": "markdown",
   "id": "8c02b29e",
   "metadata": {},
   "source": [
    "### **4. Number Served:**\n",
    "- *Start with your program from Exercise 1*\n",
    "- Add an attribute called **number_served** with a default value of 0. Create an instance called **restaurant** from this class. Print the number of customers the restaurant has served, and then change this value and print it again.\n",
    "- Add a method called **set_number_served()** that lets you set the number of customers that have been served. Call this method with a new number and print the value again.\n",
    "- Add a method called **increment_number_served()** that lets you increment the number of customers who’ve been served. Call this method with any number you like that could represent how many customers were served in, say, a day of\n",
    "business."
   ]
  },
  {
   "cell_type": "code",
   "execution_count": null,
   "id": "cf9aa75e",
   "metadata": {},
   "outputs": [
    {
     "name": "stdout",
     "output_type": "stream",
     "text": [
      "Customer Served:  0\n",
      "Customer Served:  2\n",
      "Customer Served:  5\n",
      "Incremented Customer Served:  10\n"
     ]
    }
   ],
   "source": [
    "class Restaurant:\n",
    "    def __init__(self, restaurant_name, cuisine_type):\n",
    "        self.restaurant_name = restaurant_name\n",
    "        self.cuisine_type = cuisine_type\n",
    "        self.number_served = 0\n",
    "\n",
    "    def set_number_served(self, number):\n",
    "        self.number_served = number\n",
    "\n",
    "    def increment_number_served(self, number):\n",
    "        self.number_served += number\n",
    "\n",
    "    def describe_restaurant(self):\n",
    "        print(f\"{self.restaurant_name} carries delicious tastes with {self.cuisine_type}\")\n",
    "\n",
    "    def open_restaurant(self):\n",
    "        print(\"The Restaurant is now open!\")\n",
    "\n",
    "restaurant = Restaurant(\"E-Cafe\", \"Fast Foods\")\n",
    "print(\"Customer Served: \", restaurant.number_served)\n",
    "restaurant.number_served = 2\n",
    "print(\"Customer Served: \", restaurant.number_served)\n",
    "restaurant.set_number_served(5)\n",
    "print(\"Customer Served: \", restaurant.number_served)\n",
    "restaurant.increment_number_served(5)\n",
    "print(\"Incremented Customer Served: \", restaurant.number_served)"
   ]
  },
  {
   "cell_type": "markdown",
   "id": "3cd2f205",
   "metadata": {},
   "source": [
    "### 5. Login Attempts:\n",
    "- *Add an attribute called **login_attempts** to your `User` class from Exercise 3*\n",
    "- Write a method called **increment_login_attempts()** that increments the value of login_attempts by 1. \n",
    "- Write another method called **reset_login_attempts()** that resets the value of login_attempts to 0.\n",
    "- Make an instance of the User class and call **increment_login_attempts()** several times. Print the value of **login_attempts** to make sure it was incremented properly, and then call **reset_login_attempts()**. Print **login_attempts** again to make sure it was reset to 0."
   ]
  },
  {
   "cell_type": "code",
   "execution_count": 16,
   "id": "4716d458",
   "metadata": {},
   "outputs": [
    {
     "name": "stdout",
     "output_type": "stream",
     "text": [
      "Incremented:  5\n",
      "Reset:  0\n"
     ]
    }
   ],
   "source": [
    "class User:\n",
    "    def __init__(self, first_name, last_name, age, gender):\n",
    "        self.first_name = first_name\n",
    "        self.last_name = last_name\n",
    "        self.age = age\n",
    "        self.gender = gender\n",
    "        self.login_attempts = 0\n",
    "\n",
    "    def increment_login_attempts(self):\n",
    "        self.login_attempts += 1\n",
    "\n",
    "    def reset_login_attempts(self):\n",
    "        self.login_attempts = 0\n",
    "\n",
    "    def describe_user(self):\n",
    "        print(f\"Name: {self.first_name} {self.last_name}\\nAge: {self.age}\\nGender: {self.gender}\")\n",
    "\n",
    "    def greet_user(self):\n",
    "        print(f\"Greetings, Welcome {self.first_name}!\\n\")\n",
    "\n",
    "user = User(\"Anas\", \"Ansari\", 20, \"Male\")\n",
    "user.increment_login_attempts()\n",
    "user.increment_login_attempts()\n",
    "user.increment_login_attempts()\n",
    "user.increment_login_attempts()\n",
    "user.increment_login_attempts()\n",
    "print(\"Incremented: \", user.login_attempts)\n",
    "user.reset_login_attempts()\n",
    "print(\"Reset: \", user.login_attempts)"
   ]
  },
  {
   "cell_type": "markdown",
   "id": "ef25dc13",
   "metadata": {},
   "source": [
    "### 6. Ice Cream Stand: \n",
    "An ice cream stand is a specific kind of restaurant. \n",
    "- Write a class called `IceCreamStand` that inherits from the Restaurant class you wrote in Exercise 1 or Exercise 4. Either version of the class will work; just pick the one you like better. \n",
    "- Add an attribute called **flavors** that stores a list of ice cream flavors. \n",
    "- Write a method that displays these flavors.\n",
    "- Create an instance of `IceCreamStand`, and call this method.\n"
   ]
  },
  {
   "cell_type": "code",
   "execution_count": 18,
   "id": "6f9b3667",
   "metadata": {},
   "outputs": [
    {
     "name": "stdout",
     "output_type": "stream",
     "text": [
      "Flavours:\n",
      "Mango\n",
      "Kulfa\n",
      "Oreo Crunch\n"
     ]
    }
   ],
   "source": [
    "class IceCreamStand(Restaurant):\n",
    "    def __init__(self, restaurant_name, cuisine_type):\n",
    "        super().__init__(restaurant_name, cuisine_type)\n",
    "        self.flavours = [\"Mango\", \"Kulfa\", \"Oreo Crunch\"]\n",
    "\n",
    "    def display_flavours(self):\n",
    "        print(\"Flavours:\")\n",
    "        for flavour in self.flavours:\n",
    "            print(flavour)\n",
    "\n",
    "ice_cream_stand = IceCreamStand(\"E-Cafe\", \"Fast Foods\")\n",
    "ice_cream_stand.display_flavours()"
   ]
  },
  {
   "cell_type": "markdown",
   "id": "23a0313e",
   "metadata": {},
   "source": [
    "### **7. Admin:**\n",
    "An administrator is a special kind of user. \n",
    "- Write a class called `Admin` that inherits from the User class you wrote in Exercise 3 or Exercise 5. \n",
    "- Add an attribute, *privileges*, that stores a list of strings like **\"can add post\"**, **\"can delete post\"**, **\"can ban user\"**, and so on.\n",
    "- Write a method called *show_privileges()* that lists the administrator’s set of privileges. Create an instance of `Admin`, and call your method."
   ]
  },
  {
   "cell_type": "code",
   "execution_count": 25,
   "id": "fd3a0d64",
   "metadata": {},
   "outputs": [
    {
     "name": "stdout",
     "output_type": "stream",
     "text": [
      "Roles of Admin:\n",
      "1: can add post\n",
      "2: can delete post\n",
      "3: can ban user\n"
     ]
    }
   ],
   "source": [
    "class Admin(User):\n",
    "    def __init__(self, first_name, last_name, age, gender, privileges):\n",
    "        super().__init__(first_name, last_name, age, gender)\n",
    "        self.privileges = privileges\n",
    "\n",
    "    def show_privileges(self):\n",
    "        print(\"Roles of Admin:\")\n",
    "        for index, privilege in enumerate(self.privileges, 1):\n",
    "            print(f\"{index}: {privilege}\")\n",
    "\n",
    "privileges_list = [\"can add post\", \"can delete post\", \"can ban user\"]\n",
    "\n",
    "admin = Admin(\"Anas\", \"Ashfaq\", 20, \"Male\", privileges_list)\n",
    "admin.show_privileges()"
   ]
  },
  {
   "cell_type": "markdown",
   "id": "986922a5",
   "metadata": {},
   "source": [
    "### **8. Privileges:**\n",
    "- Write a separate Privileges class. The class should have one attribute, *privileges*, that stores a list of strings as described in Exercise 7.\n",
    "- Move the *show_privileges()* method to this class. Make a `Privileges` instance as an attribute in the `Admin` class.\n",
    "- Create a new instance of `Admin` and use your method to show its privileges."
   ]
  },
  {
   "cell_type": "code",
   "execution_count": 29,
   "id": "e1347997",
   "metadata": {},
   "outputs": [
    {
     "name": "stdout",
     "output_type": "stream",
     "text": [
      "Admin Privileges:\n",
      "1: can add post\n",
      "2: can delete post\n",
      "3: can ban user\n"
     ]
    }
   ],
   "source": [
    "class Privileges:\n",
    "    def __init__(self, privileges):\n",
    "        self.privileges = privileges\n",
    "\n",
    "    def show_privileges(self):\n",
    "        print(\"Admin Privileges:\")\n",
    "        for index, privilege in enumerate(self.privileges, 1):\n",
    "            print(f\"{index}: {privilege}\")\n",
    "\n",
    "class Admin(User):\n",
    "    def __init__(self, first_name, last_name, age, gender, privileges_list):\n",
    "        super().__init__(first_name, last_name, age, gender)\n",
    "        self.privileges = Privileges(privileges_list)\n",
    "\n",
    "privs = [\"can add post\", \"can delete post\", \"can ban user\"]\n",
    "admin = Admin(\"Anas\", \"Ashfaq\", 20, \"Male\", privs)\n",
    "\n",
    "admin.privileges.show_privileges()"
   ]
  },
  {
   "cell_type": "markdown",
   "id": "eba89f3a",
   "metadata": {},
   "source": [
    "### **9. Battery Upgrade:**\n",
    "Use the final version of electric_car.py from this section.\n",
    "- Add a method to the Battery class called *upgrade_battery()*. \n",
    "- This method should check the battery size and set the capacity to 65 if it isn’t already. \n",
    "- Make an electric car with a default battery size, call *get_range()* once, and then call *get_range()* a second time after upgrading the battery. \n",
    "- You should see an increase in the car’s range."
   ]
  },
  {
   "cell_type": "code",
   "execution_count": 40,
   "id": "70eb4793",
   "metadata": {},
   "outputs": [
    {
     "name": "stdout",
     "output_type": "stream",
     "text": [
      "This car can go about 150 miles on a full charge.\n",
      "Battery has upgraded to 65\n",
      "This car can go about 225 miles on a full charge.\n"
     ]
    }
   ],
   "source": [
    "class Car:\n",
    "    def __init__(self, make, model, year):\n",
    "        self.make = make\n",
    "        self.model = model\n",
    "        self.year = year\n",
    "\n",
    "    def describe_car(self):\n",
    "        print(f\"{self.year} {self.make} {self.model}\")\n",
    "\n",
    "class Battery:\n",
    "    \"\"\"A simple attempt to model a battery for an electric car.\"\"\"\n",
    "    def __init__(self, battery_size=40):\n",
    "        \"\"\"Initialize the battery's attributes.\"\"\"\n",
    "        self.battery_size = battery_size\n",
    "\n",
    "    def get_range(self):\n",
    "        \"\"\"Print a statement about the range this battery provides.\"\"\"\n",
    "        if self.battery_size == 40:\n",
    "            range = 150\n",
    "        elif self.battery_size == 65:\n",
    "            range = 225\n",
    "        print(f\"This car can go about {range} miles on a full charge.\")\n",
    "\n",
    "    def upgrade_battery(self):\n",
    "        if self.battery_size < 65:\n",
    "            self.battery_size = 65\n",
    "            print(\"Battery has upgraded to 65\")\n",
    "        else:\n",
    "            print(\"Battery has already upgraded to 65\")\n",
    "\n",
    "    def describe_battery(self):\n",
    "        \"\"\"Print a statement describing the battery size.\"\"\"\n",
    "        print(f\"This car has a {self.battery_size}-kWh battery.\")\n",
    "\n",
    "class ElectricCar(Car):\n",
    "    def __init__(self, make, model, year):\n",
    "        super().__init__(make, model, year)\n",
    "        self.battery = Battery()\n",
    "\n",
    "my_electric_car = ElectricCar(\"Tesla\", \"model 3\", 2024)\n",
    "\n",
    "my_electric_car.battery.get_range()\n",
    "\n",
    "my_electric_car.battery.upgrade_battery()\n",
    "\n",
    "my_electric_car.battery.get_range()"
   ]
  }
 ],
 "metadata": {
  "kernelspec": {
   "display_name": "env3_10",
   "language": "python",
   "name": "python3"
  },
  "language_info": {
   "codemirror_mode": {
    "name": "ipython",
    "version": 3
   },
   "file_extension": ".py",
   "mimetype": "text/x-python",
   "name": "python",
   "nbconvert_exporter": "python",
   "pygments_lexer": "ipython3",
   "version": "3.10.16"
  }
 },
 "nbformat": 4,
 "nbformat_minor": 5
}
