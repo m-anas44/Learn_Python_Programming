{
 "cells": [
  {
   "cell_type": "markdown",
   "id": "3d79ceae",
   "metadata": {},
   "source": [
    "## **Introduction to File Handling**\n",
    "When writing programs in Python, often you need to store or retrieve data from external files. This is crucial for tasks like:\n",
    "\n",
    "- Persisting data for future use\n",
    "- Sharing data between programs\n",
    "- Working with large datasets\n",
    "- Logging application activity\n",
    "File handling is essential in programming, especially in areas like AI/ML where we process large datasets.\n",
    "\n",
    "### **What is File Handling?**\n",
    "File handling refers to the process of interacting with external files using code. This includes:\n",
    "\n",
    "- Opening files\n",
    "- Reading content\n",
    "- Writing data\n",
    "- Appending new data\n",
    "- Closing files after use\n",
    "Python variables only store temporary data which is lost after execution. To persist data, files or databases are used.\n",
    "\n",
    "### **Why Use Files?**\n",
    "- Persist data beyond program execution\n",
    "- Allow inter-program communication\n",
    "- Store logs of application operations\n",
    "- Process large external datasets (CSV, JSON, etc.)\n",
    "\n",
    "#### **Syntax for Opening Files**\n",
    "```bash\n",
    "file = open(\"filename.txt\", \"mode\")\n",
    "```\n",
    "\n",
    "**Modes:**\n",
    "\n",
    "- `r` – Read (default mode)\n",
    "- `w` – Write (creates new file or overwrites)\n",
    "- `a` – Append (adds content at the end)\n",
    "- `r+` – Read and write\n",
    "\n",
    "Always close the file after use:\n",
    "`file.close()`\n",
    "\n",
    "### **File Modes and Their Behavior**\n",
    "1. Read Mode (r)\n",
    "    - Opens existing file\n",
    "    - Fails if file doesn’t exist\n",
    "    - Use: file.read()\n",
    "2. Write Mode (w)\n",
    "    - Overwrites existing content\n",
    "    - Creates file if not present\n",
    "    - Use carefully to avoid data loss\n",
    "3. Append Mode (a)\n",
    "    - Adds new data at end of file\n",
    "    - Preserves previous content\n",
    "4. Read & Write Mode (r+)\n",
    "    - Reads and writes to same file\n",
    "    - Allows both operations"
   ]
  },
  {
   "cell_type": "markdown",
   "id": "728e5aac",
   "metadata": {},
   "source": [
    "#### **Creating or Overwriting Existing file via write mode`(w)`** "
   ]
  },
  {
   "cell_type": "code",
   "execution_count": 1,
   "id": "0d10682e",
   "metadata": {},
   "outputs": [
    {
     "name": "stdout",
     "output_type": "stream",
     "text": [
      "File succesfully written.\n"
     ]
    }
   ],
   "source": [
    "with open('example.txt', 'w') as file:\n",
    "    file.write(\"This is a new file using write mode.\")\n",
    "\n",
    "print('File succesfully written.')"
   ]
  },
  {
   "cell_type": "markdown",
   "id": "560ef949",
   "metadata": {},
   "source": [
    "#### **Reading file via read mode `(r)`**"
   ]
  },
  {
   "cell_type": "code",
   "execution_count": 2,
   "id": "a46a3768",
   "metadata": {},
   "outputs": [
    {
     "name": "stdout",
     "output_type": "stream",
     "text": [
      "File content:  This is a new file using write mode.\n"
     ]
    }
   ],
   "source": [
    "try:\n",
    "    with open('example.txt', 'r') as file:\n",
    "        content = file.read()\n",
    "        print(\"File content: \", content)\n",
    "\n",
    "except FileNotFoundError:\n",
    "    print(\"Error, The file doesn't exist\")"
   ]
  },
  {
   "cell_type": "markdown",
   "id": "63fc7095",
   "metadata": {},
   "source": [
    "#### **Writing via Append mode `(a)`**"
   ]
  },
  {
   "cell_type": "code",
   "execution_count": 3,
   "id": "cc3110c5",
   "metadata": {},
   "outputs": [
    {
     "name": "stdout",
     "output_type": "stream",
     "text": [
      "New content appended successfully\n"
     ]
    }
   ],
   "source": [
    "with open('example.txt', 'a') as file:\n",
    "    file.write(\"\\nThis is a new line using append mode\")\n",
    "\n",
    "print(\"New content appended successfully\")"
   ]
  },
  {
   "cell_type": "markdown",
   "id": "188916fc",
   "metadata": {},
   "source": [
    "#### **Reading and Writing via `r+` mode**"
   ]
  },
  {
   "cell_type": "code",
   "execution_count": 4,
   "id": "e0607d64",
   "metadata": {},
   "outputs": [
    {
     "name": "stdout",
     "output_type": "stream",
     "text": [
      "current file content:  This is a new file using write mode.\n",
      "This is a new line using append mode\n",
      "Content updated successfully\n"
     ]
    }
   ],
   "source": [
    "with open(\"example.txt\", \"r+\") as file:\n",
    "    content = file.read()\n",
    "    print(\"current file content: \", content)\n",
    "    file.write(\"\\nAdded new content in read+write mode\")\n",
    "print(\"Content updated successfully\")"
   ]
  },
  {
   "cell_type": "markdown",
   "id": "16fd0f5f",
   "metadata": {},
   "source": [
    "### **JSON in Python**\n",
    "JSON (JavaScript Object Notation) is a universal format for storing and exchanging data.\n",
    "#### **Why JSON?**\n",
    "- Cross-language support\n",
    "- Lightweight and structured\n",
    "- Ideal for APIs and web applications\n",
    "- Working with JSON in Python"
   ]
  },
  {
   "cell_type": "code",
   "execution_count": 5,
   "id": "3c6192fc",
   "metadata": {},
   "outputs": [
    {
     "name": "stdout",
     "output_type": "stream",
     "text": [
      "{'name': 'Anas', 'age': 20, 'city': 'lahore'}\n"
     ]
    }
   ],
   "source": [
    "import json\n",
    "\n",
    "data = {'name': \"Anas\", 'age': 20, 'city': \"lahore\"}\n",
    "\n",
    "with open(\"data.json\", 'w') as file:\n",
    "    json.dump(data, file)\n",
    "\n",
    "with open(\"data.json\", 'r') as file:\n",
    "    loadedData = json.load(file)\n",
    "    print(loadedData)"
   ]
  },
  {
   "cell_type": "markdown",
   "id": "ed6e36bb",
   "metadata": {},
   "source": [
    "### **Exception Handling in File Operations**\n",
    "If a file doesn’t exist and you try to read it, an error occurs. Handle it using try-except:"
   ]
  },
  {
   "cell_type": "code",
   "execution_count": 6,
   "id": "28d76cd8",
   "metadata": {},
   "outputs": [
    {
     "name": "stdout",
     "output_type": "stream",
     "text": [
      "Error: The file does not exist!\n"
     ]
    }
   ],
   "source": [
    "try:\n",
    "    with open('non_existent_file.txt', 'r') as file:\n",
    "        content = file.read()\n",
    "        print(content)\n",
    "\n",
    "except FileNotFoundError:\n",
    "    print('Error: The file does not exist!')"
   ]
  }
 ],
 "metadata": {
  "kernelspec": {
   "display_name": "env3_10",
   "language": "python",
   "name": "python3"
  },
  "language_info": {
   "codemirror_mode": {
    "name": "ipython",
    "version": 3
   },
   "file_extension": ".py",
   "mimetype": "text/x-python",
   "name": "python",
   "nbconvert_exporter": "python",
   "pygments_lexer": "ipython3",
   "version": "3.10.16"
  }
 },
 "nbformat": 4,
 "nbformat_minor": 5
}
