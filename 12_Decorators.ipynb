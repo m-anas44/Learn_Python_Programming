{
 "cells": [
  {
   "cell_type": "markdown",
   "id": "e11159c7",
   "metadata": {},
   "source": [
    "### **Introduction**\n",
    "A decorator is a function that **modifies** or **enhances** the behavior of another function without modifying its source code.\n",
    "In simple words Decorators are a powerful feature in Python that allows us to extend or modify the behavior of functions or methods without changing their actual code. They help in code reusability, readability, and can be applied to various tasks like logging, authentication, or timing functions.\n",
    "\n",
    "### **1. Key Features of Decorators:**\n",
    "- **Code Reusability:** Decorators allow you to reuse the same function logic in multiple places without repeating the code.\n",
    "- **Code Readability:** They make the code cleaner by separating the core logic of a function and its enhancement logic (e.g., logging, authentication).\n",
    "- **Use Cases:** Can be used for logging, authentication, function timing, and more.\n",
    "\n",
    "### **2. Core Concepts:**\n",
    "#### Function as First-Class Citizen:\n",
    "- Functions can be used as variables, passed as arguments to other functions, and returned from functions.\n",
    "#### Decorator Syntax:\n",
    "1. Define the Decorator Function:\n",
    "- Assigned to Variables: Functions can be assigned to variables like any other object\n",
    "- Passed as Arguments: Functions can be passed as arguments to other functions\n",
    "- Returned from Functions: Functions can be returned from other functions\n",
    "2. How It Works:\n",
    "- When a function is passed to a decorator, its behavior is extended without modifying the original function.\n",
    "\n",
    "### **3. Example of Decorator:**"
   ]
  },
  {
   "cell_type": "code",
   "execution_count": 1,
   "id": "1596e239",
   "metadata": {},
   "outputs": [
    {
     "name": "stdout",
     "output_type": "stream",
     "text": [
      "Hello!\n"
     ]
    }
   ],
   "source": [
    "def greet(): return 'Hello!'\n",
    "\n",
    "def call_function(func):\n",
    "    return func()\n",
    "\n",
    "print(call_function(greet))"
   ]
  },
  {
   "cell_type": "markdown",
   "id": "a1d54219",
   "metadata": {},
   "source": [
    "### **4. Key Points in Using Decorators:**\n",
    "- **Preserving Function Metadata:**\n",
    "  - Use functools.wraps() to preserve the metadata of the original function when decorators are applied.\n",
    "- **Avoid Unnecessary Nesting of Decorators:**\n",
    "  - Multiple decorators can make the code hard to follow. Avoid excessive nesting.\n",
    "\n",
    "### **5. Practical Use Cases:**\n",
    "**Logging and Time Measurement:**\n",
    "- Logging Function Call:\n",
    "  ```bash\n",
    "    def decorator_function(original_function):\n",
    "        def wrapper():\n",
    "            # Add extra functionality\n",
    "            return original_function()\n",
    "\n",
    "        return wrapper\n",
    "  ```\n",
    "- Time Measurement:\n",
    "  ```bash\n",
    "  import time\n",
    "\n",
    "    def repeat(times):\n",
    "        def decorator(func):\n",
    "            def wrapper(*args, **kwargs):\n",
    "                for _ in range(times):\n",
    "                    func(*args, **kwargs)\n",
    "\n",
    "            return wrapper\n",
    "        return decorator\n",
    "  ```\n",
    "\n",
    "### **6. Passing Arguments to Decorators:**\n",
    "- Extra Function for Argument Passing:\n",
    "  - A decorator can take arguments, for example, to repeat a function multiple times:\n",
    "- ```bash\n",
    "  @repeat(3)\n",
    "  def greet():\n",
    "    print('Hello!')\n",
    "  ```\n",
    "\n",
    "### **Best Practices for Decorators:**\n",
    "- Use decorators to **extend functionality** without modifying the original code.\n",
    "- **Preserve function metadata** using functools.wraps().\n",
    "- **Avoid unnecessary nesting** of decorators to keep the code readable and maintainable."
   ]
  }
 ],
 "metadata": {
  "kernelspec": {
   "display_name": "env3_10",
   "language": "python",
   "name": "python3"
  },
  "language_info": {
   "codemirror_mode": {
    "name": "ipython",
    "version": 3
   },
   "file_extension": ".py",
   "mimetype": "text/x-python",
   "name": "python",
   "nbconvert_exporter": "python",
   "pygments_lexer": "ipython3",
   "version": "3.10.16"
  }
 },
 "nbformat": 4,
 "nbformat_minor": 5
}
