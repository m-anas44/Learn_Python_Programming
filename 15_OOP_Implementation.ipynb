{
 "cells": [
  {
   "cell_type": "markdown",
   "id": "046c960a",
   "metadata": {},
   "source": [
    "### **Introduction**\n",
    "In Python, Object-Oriented Programming (OOP) allows for the creation of classes and objects, which provide a clear and efficient way to structure code. This lecture focuses on how to implement the core OOP concepts, such as classes, attributes, methods, and objects, with real-life examples and practical coding implementations.\n",
    "\n",
    "### **Key Points**\n",
    "1. **Understanding Classes and Objects**\n",
    "   - **Class:** A class is a blueprint for creating objects. It defines attributes (characteristics) and methods (behaviors) that objects created from the class will possess.\n",
    "   - **Object:** An object is an instance of a class. It is a specific realization of the class with defined values for its attributes.\n",
    "   - **Example:** If we define a class House, we can create multiple objects, each representing a specific house with unique attributes like color, size, and area.\n",
    "2. **The` __init__` Method (Constructor)**\n",
    "   - The `__init__` method is a constructor in Python, used to initialize the attributes of an object when it is created. This method is automatically called when an object is instantiated from a class.\n",
    "   - **Example:** In the House class, we define the attributes of color and size in the` __init__` method. When an object of House is created, these attributes are automatically set.\n",
    "3. **Attributes and Their Initialization**\n",
    "   - **Attributes:** These are characteristics that define the object. For example, the color, size, and area of a house are attributes.\n",
    "   - Attributes are defined inside the `__init__` method using the **self** keyword, which refers to the current instance of the class.\n",
    "   - **Example:** `self.color = color` links the value passed to the color parameter with the object's color attribute.\n",
    "4. **Methods in OOP**\n",
    "   - **Methods:** Methods define the behavior of an object. They are functions that belong to the class and are used to manipulate or access the object's attributes.\n",
    "   - **Example:** A Car class might have methods like start() and stop() to control the car’s actions. In the case of the House class, you can define methods like paint() or renovate() to change its attributes.\n",
    "5. **Creating Objects and Accessing Attributes**\n",
    "   - Once a class is defined, you can create objects (instances) from it. Each object has its own set of attributes that can be accessed and modified.\n",
    "   - **Example:**\n",
    "   ```bash\n",
    "   my_house = House(\"Blue\", \"Large\")\n",
    "   print(my_house.color)  # Outputs: Blue\n",
    "   print(my_house.size)   # Outputs: Large\n",
    "   ```\n",
    "\n",
    "### **Practical Example: Defining a House Class**\n",
    "**Defining the Class**\n",
    "   - To define a class in Python, use the class keyword followed by the class name. The class will contain the __init__ method to initialize its attributes.\n",
    "      ```bash\n",
    "      class House:\n",
    "\n",
    "         def __init__(self, color, size):\n",
    "\n",
    "            self.color = color\n",
    "\n",
    "            self.size = size\n",
    "      ```\n",
    "**Instantiating the Object**\n",
    "   - After defining the class, you can create an object from it by calling the class as if it were a function.\n",
    "      ```bash\n",
    "      my_house = House(\"Blue\", \"Large\")\n",
    "      ```\n",
    "**Accessing Attributes**\n",
    "   - To access the attributes of the object, use the dot notation.\n",
    "      ```bash\n",
    "      print(my_house.color)  # Blue\n",
    "      print(my_house.size)   # Large\n",
    "      ```\n",
    "\n",
    "**Using Methods**\n",
    " - You can also define methods within the class to perform actions on the object's attributes.\n",
    " - **Example:**"
   ]
  },
  {
   "cell_type": "code",
   "execution_count": null,
   "id": "8f2327ba",
   "metadata": {},
   "outputs": [
    {
     "name": "stdout",
     "output_type": "stream",
     "text": [
      "Red\n"
     ]
    }
   ],
   "source": [
    "class House:\n",
    "    def __init__(self, color, size):\n",
    "        self.color = color\n",
    "        self.size = size\n",
    "\n",
    "    def change_color(self, new_color):\n",
    "        self.color = new_color\n",
    "\n",
    "my_house = House(\"blue\", \"1500cc\")\n",
    "# Now, you can call the change_color method to change the house's color:\n",
    "my_house.change_color(\"Red\")\n",
    "\n",
    "print(my_house.color)"
   ]
  },
  {
   "cell_type": "code",
   "execution_count": 2,
   "id": "66abe0af",
   "metadata": {},
   "outputs": [
    {
     "name": "stdout",
     "output_type": "stream",
     "text": [
      "The house is blue and large.\n"
     ]
    }
   ],
   "source": [
    "class House:\n",
    "# The constructor (__init__) method initializes the attributes of the object\n",
    "    def __init__(self, color, size):\n",
    "        self.color = color # Attribute to store the color of the house\n",
    "        self.size = size # Attribute to store the size of the house\n",
    "\n",
    "# Method to describe the house\n",
    "    def describe(self):\n",
    "        print(f\"The house is {self.color} and {self.size}.\")\n",
    "\n",
    "# Create an object of the House class with specific color and size\n",
    "my_house = House(\"blue\", \"large\")\n",
    "\n",
    "# Call the describe method to print details about the house\n",
    "my_house.describe()"
   ]
  }
 ],
 "metadata": {
  "kernelspec": {
   "display_name": "env3_10",
   "language": "python",
   "name": "python3"
  },
  "language_info": {
   "codemirror_mode": {
    "name": "ipython",
    "version": 3
   },
   "file_extension": ".py",
   "mimetype": "text/x-python",
   "name": "python",
   "nbconvert_exporter": "python",
   "pygments_lexer": "ipython3",
   "version": "3.10.16"
  }
 },
 "nbformat": 4,
 "nbformat_minor": 5
}
