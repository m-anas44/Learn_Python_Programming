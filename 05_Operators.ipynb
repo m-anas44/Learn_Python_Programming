{
 "cells": [
  {
   "cell_type": "markdown",
   "metadata": {},
   "source": [
    "## Operators in Python\n",
    "Operators are special symbols in Python that perform operations on variables and values. They are classified into different types:"
   ]
  },
  {
   "cell_type": "markdown",
   "metadata": {},
   "source": [
    "### Assignment Operators\n",
    "Used to assign values to variables."
   ]
  },
  {
   "cell_type": "code",
   "execution_count": 5,
   "metadata": {},
   "outputs": [
    {
     "name": "stdout",
     "output_type": "stream",
     "text": [
      "Initial value of a: 10\n",
      "After a += 3: 13\n",
      "After a -= 3: 10\n",
      "After a *= 3: 30\n",
      "After a /= 3: 10.0\n",
      "After a //= 3: 3.0\n",
      "After a %= 3: 0.0\n",
      "After a **= 3: 0.0\n"
     ]
    }
   ],
   "source": [
    "# Assignment Operators\n",
    "a = 10\n",
    "print(\"Initial value of a:\", a)\n",
    "\n",
    "a += 3  # a = a + 3\n",
    "print(\"After a += 3:\", a)\n",
    "\n",
    "a -= 3  # a = a - 3\n",
    "print(\"After a -= 3:\", a)\n",
    "\n",
    "a *= 3  # a = a * 3\n",
    "print(\"After a *= 3:\", a)\n",
    "\n",
    "a /= 3  # a = a / 3\n",
    "print(\"After a /= 3:\", a)\n",
    "\n",
    "a //= 3  # a = a // 3\n",
    "print(\"After a //= 3:\", a)\n",
    "\n",
    "a %= 3  # a = a % 3\n",
    "print(\"After a %= 3:\", a)\n",
    "\n",
    "a **= 3  # a = a ** 3\n",
    "print(\"After a **= 3:\", a)"
   ]
  },
  {
   "cell_type": "markdown",
   "metadata": {},
   "source": [
    "### Arithmetic Operators\n",
    "Used for performing mathematical operations."
   ]
  },
  {
   "cell_type": "code",
   "execution_count": 1,
   "metadata": {},
   "outputs": [
    {
     "name": "stdout",
     "output_type": "stream",
     "text": [
      "Addition: 13\n",
      "Subtraction: 7\n",
      "Multiplication: 30\n",
      "Division: 3.3333333333333335\n",
      "Floor Division: 3\n",
      "Modulus: 1\n",
      "Exponentiation: 1000\n"
     ]
    }
   ],
   "source": [
    "a, b = 10, 3\n",
    "\n",
    "print(\"Addition:\", a + b)      # 10 + 3 = 13\n",
    "print(\"Subtraction:\", a - b)   # 10 - 3 = 7\n",
    "print(\"Multiplication:\", a * b) # 10 * 3 = 30\n",
    "print(\"Division:\", a / b)      # 10 / 3 = 3.333\n",
    "print(\"Floor Division:\", a // b) # 10 // 3 = 3\n",
    "print(\"Modulus:\", a % b)       # 10 % 3 = 1\n",
    "print(\"Exponentiation:\", a ** b) # 10^3 = 1000"
   ]
  },
  {
   "cell_type": "markdown",
   "metadata": {},
   "source": [
    "### Comparison Operators\n",
    "Used to compare values, returning `True` or `False`."
   ]
  },
  {
   "cell_type": "code",
   "execution_count": 2,
   "metadata": {},
   "outputs": [
    {
     "name": "stdout",
     "output_type": "stream",
     "text": [
      "Equal to: False\n",
      "Not equal to: True\n",
      "Greater than: True\n",
      "Less than: False\n",
      "Greater than or equal to: True\n",
      "Less than or equal to: False\n"
     ]
    }
   ],
   "source": [
    "print(\"Equal to:\", a == b)      # False\n",
    "print(\"Not equal to:\", a != b)  # True\n",
    "print(\"Greater than:\", a > b)   # True\n",
    "print(\"Less than:\", a < b)      # False\n",
    "print(\"Greater than or equal to:\", a >= b) # True\n",
    "print(\"Less than or equal to:\", a <= b)    # False"
   ]
  },
  {
   "cell_type": "markdown",
   "metadata": {},
   "source": [
    "### Logical Operators\n",
    "Used to combine multiple conditions."
   ]
  },
  {
   "cell_type": "code",
   "execution_count": 3,
   "metadata": {},
   "outputs": [
    {
     "name": "stdout",
     "output_type": "stream",
     "text": [
      "AND: False\n",
      "OR: True\n",
      "NOT: False\n"
     ]
    }
   ],
   "source": [
    "x = True\n",
    "y = False\n",
    "\n",
    "print(\"AND:\", x and y) # False\n",
    "print(\"OR:\", x or y)   # True\n",
    "print(\"NOT:\", not x)   # False"
   ]
  },
  {
   "cell_type": "markdown",
   "metadata": {},
   "source": [
    "### Bitwise Operators\n",
    "Used for performing operations at the binary level."
   ]
  },
  {
   "cell_type": "code",
   "execution_count": 4,
   "metadata": {},
   "outputs": [
    {
     "name": "stdout",
     "output_type": "stream",
     "text": [
      "Bitwise AND: 1\n",
      "Bitwise OR: 7\n",
      "Bitwise XOR: 6\n",
      "Bitwise NOT: -6\n",
      "Left Shift: 10\n",
      "Right Shift: 2\n"
     ]
    }
   ],
   "source": [
    "a = 5  # 101 in binary\n",
    "b = 3  # 011 in binary\n",
    "\n",
    "print(\"Bitwise AND:\", a & b)  # 1 (001)\n",
    "print(\"Bitwise OR:\", a | b)   # 7 (111)\n",
    "print(\"Bitwise XOR:\", a ^ b)  # 6 (110)\n",
    "print(\"Bitwise NOT:\", ~a)     # -6\n",
    "print(\"Left Shift:\", a << 1)  # 10 (1010)\n",
    "print(\"Right Shift:\", a >> 1) # 2 (010)"
   ]
  },
  {
   "cell_type": "markdown",
   "metadata": {},
   "source": [
    "### Identity Operators\n",
    "Used to compare memory locations of two objects."
   ]
  },
  {
   "cell_type": "code",
   "execution_count": 6,
   "metadata": {},
   "outputs": [
    {
     "name": "stdout",
     "output_type": "stream",
     "text": [
      "x is y: True\n",
      "x is z: False\n",
      "x is not z: True\n"
     ]
    }
   ],
   "source": [
    "# Identity Operators\n",
    "x = [1, 2, 3]\n",
    "y = x\n",
    "z = [1, 2, 3]\n",
    "\n",
    "print(\"x is y:\", x is y)   # True (same memory location)\n",
    "print(\"x is z:\", x is z)   # False (different objects)\n",
    "print(\"x is not z:\", x is not z)  # True\n"
   ]
  },
  {
   "cell_type": "markdown",
   "metadata": {},
   "source": [
    "### Membership Operators\n",
    "Used to check if a value is present in a sequence."
   ]
  },
  {
   "cell_type": "code",
   "execution_count": 7,
   "metadata": {},
   "outputs": [
    {
     "name": "stdout",
     "output_type": "stream",
     "text": [
      "3 in nums: True\n",
      "10 in nums: False\n",
      "10 not in nums: True\n"
     ]
    }
   ],
   "source": [
    "# Membership Operators\n",
    "nums = [1, 2, 3, 4, 5]\n",
    "\n",
    "print(\"3 in nums:\", 3 in nums)\n",
    "print(\"10 in nums:\", 10 in nums)    \n",
    "print(\"10 not in nums:\", 10 not in nums)  "
   ]
  }
 ],
 "metadata": {
  "kernelspec": {
   "display_name": "env3_10",
   "language": "python",
   "name": "python3"
  },
  "language_info": {
   "codemirror_mode": {
    "name": "ipython",
    "version": 3
   },
   "file_extension": ".py",
   "mimetype": "text/x-python",
   "name": "python",
   "nbconvert_exporter": "python",
   "pygments_lexer": "ipython3",
   "version": "3.10.16"
  }
 },
 "nbformat": 4,
 "nbformat_minor": 2
}
