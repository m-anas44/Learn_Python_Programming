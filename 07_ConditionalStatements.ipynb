{
 "cells": [
  {
   "cell_type": "markdown",
   "metadata": {},
   "source": [
    "## 1. Why Do We Need Conditional Statements?\n",
    "\n",
    "Conditional statements are used to make decisions in a program based on specific conditions. They allow the program to execute different blocks of code depending on whether a condition is true or false.\n",
    "\n",
    "## Real-Life Examples:\n",
    "\n",
    "- it rains, take an umbrella.\n",
    "- If the traffic light is green, drive; if it is red, stop.\n",
    "- If the user enters the correct password, allow login; otherwise, deny access.\n",
    "**Key Insight:** Conditional statements change the sequence of program execution based on conditions.\n",
    "\n",
    "## 2. Basic Conditional Statements\n",
    "\n",
    "Python provides three main conditional statements:\n",
    "\n",
    "- if\n",
    "- else\n",
    "- elif"
   ]
  },
  {
   "cell_type": "markdown",
   "metadata": {},
   "source": [
    "#### **Syntax: (if statement)**\n",
    "``` bash\n",
    "if condition:\n",
    "    # Code to execute if the condition is true\n",
    "```"
   ]
  },
  {
   "cell_type": "markdown",
   "metadata": {},
   "source": []
  },
  {
   "cell_type": "code",
   "execution_count": 1,
   "metadata": {},
   "outputs": [
    {
     "name": "stdout",
     "output_type": "stream",
     "text": [
      "You can go\n"
     ]
    }
   ],
   "source": [
    "traffic_light = \"green\"\n",
    "if traffic_light == \"green\":\n",
    "    print(\"You can go\")"
   ]
  },
  {
   "cell_type": "markdown",
   "metadata": {},
   "source": [
    "#### **Syntax: (if-else statement)**\n",
    "``` bash\n",
    "if condition:\n",
    "    # Code to execute if the condition is true\n",
    "else:\n",
    "    # Code to execute if the condition is false\n",
    "```"
   ]
  },
  {
   "cell_type": "code",
   "execution_count": 2,
   "metadata": {},
   "outputs": [
    {
     "name": "stdout",
     "output_type": "stream",
     "text": [
      "You must stop\n"
     ]
    }
   ],
   "source": [
    "traffic_light = \"red\"\n",
    "if traffic_light == \"green\":\n",
    "    print(\"You can go\")\n",
    "else:\n",
    "    print(\"You must stop\")"
   ]
  },
  {
   "cell_type": "markdown",
   "metadata": {},
   "source": [
    "#### **Syntax: (elif Statement)**\n",
    "``` bash\n",
    "if condition1:\n",
    "    # Code to execute if condition1 is true\n",
    "\n",
    "elif condition2:\n",
    "    # Code to execute if condition2 is true\n",
    "\n",
    "else:\n",
    "    # Code to execute if all conditions are false\n",
    "```"
   ]
  },
  {
   "cell_type": "code",
   "execution_count": 3,
   "metadata": {},
   "outputs": [
    {
     "name": "stdout",
     "output_type": "stream",
     "text": [
      "Slow down and prepare to stop\n"
     ]
    }
   ],
   "source": [
    "traffic_light = \"yellow\"\n",
    "\n",
    "if traffic_light == \"green\":\n",
    "    print(\"You can go\")\n",
    "\n",
    "elif traffic_light == \"yellow\":\n",
    "    print(\"Slow down and prepare to stop\")\n",
    "\n",
    "else:\n",
    "    print(\"You must stop\")"
   ]
  },
  {
   "cell_type": "markdown",
   "metadata": {},
   "source": [
    "## 3. Nested Conditions\n",
    "Nested conditions are used when you need to check multiple conditions within a condition."
   ]
  },
  {
   "cell_type": "code",
   "execution_count": 4,
   "metadata": {},
   "outputs": [
    {
     "name": "stdout",
     "output_type": "stream",
     "text": [
      "You are driving safely\n"
     ]
    }
   ],
   "source": [
    "car_speed = 60\n",
    "seat_belt = True\n",
    "\n",
    "if car_speed <= 60:\n",
    "    if seat_belt:\n",
    "        print(\"You are driving safely\")\n",
    "\n",
    "    else:\n",
    "        print(\"Please wear your seat belt\")\n",
    "else:\n",
    "\n",
    "    print(\"Slow down, you are exceeding the speed limit\")"
   ]
  },
  {
   "cell_type": "markdown",
   "metadata": {},
   "source": [
    "## 4. Logical Operators in Conditional Statements\n",
    "Logical operators (and, or, not) are used to combine multiple conditions."
   ]
  },
  {
   "cell_type": "code",
   "execution_count": null,
   "metadata": {},
   "outputs": [
    {
     "name": "stdout",
     "output_type": "stream",
     "text": [
      "Pedestrian can cross safely\n"
     ]
    }
   ],
   "source": [
    "# AND Operator\n",
    "pedestrian_signal = \"walk\"\n",
    "is_flashing = False\n",
    "\n",
    "if pedestrian_signal == \"walk\" and not is_flashing:\n",
    "    print(\"Pedestrian can cross safely\")\n",
    "\n",
    "else:\n",
    "    print(\"Pedestrian should wait\")"
   ]
  },
  {
   "cell_type": "code",
   "execution_count": 6,
   "metadata": {},
   "outputs": [
    {
     "name": "stdout",
     "output_type": "stream",
     "text": [
      "You can go\n"
     ]
    }
   ],
   "source": [
    "# OR Operator\n",
    "traffic_light = \"red\"\n",
    "vehicle_type = \"ambulance\"\n",
    "\n",
    "if traffic_light == \"green\" or vehicle_type == \"ambulance\":\n",
    "    print(\"You can go\")\n",
    "\n",
    "else:\n",
    "    print(\"You must stop\")"
   ]
  },
  {
   "cell_type": "code",
   "execution_count": 7,
   "metadata": {},
   "outputs": [
    {
     "name": "stdout",
     "output_type": "stream",
     "text": [
      "Do not cross\n"
     ]
    }
   ],
   "source": [
    "# NOT Operator\n",
    "pedestrian_signal = \"don't walk\"\n",
    "if not pedestrian_signal == \"walk\":\n",
    "    print(\"Do not cross\")\n",
    "\n",
    "else:\n",
    "    print(\"You can cross\")"
   ]
  },
  {
   "cell_type": "markdown",
   "metadata": {},
   "source": [
    "## 5. Case Sensitivity in Conditions\n",
    "Python is case-sensitive, so conditions must match the exact case of the string."
   ]
  },
  {
   "cell_type": "code",
   "execution_count": 8,
   "metadata": {},
   "outputs": [
    {
     "name": "stdout",
     "output_type": "stream",
     "text": [
      "Slow down and prepare to stop\n"
     ]
    }
   ],
   "source": [
    "traffic_light = \"Red\"\n",
    "if traffic_light == \"red\":\n",
    "    print(\"You must stop\")\n",
    "\n",
    "else:\n",
    "    print(\"Slow down and prepare to stop\")"
   ]
  }
 ],
 "metadata": {
  "kernelspec": {
   "display_name": "env3_10",
   "language": "python",
   "name": "python3"
  },
  "language_info": {
   "codemirror_mode": {
    "name": "ipython",
    "version": 3
   },
   "file_extension": ".py",
   "mimetype": "text/x-python",
   "name": "python",
   "nbconvert_exporter": "python",
   "pygments_lexer": "ipython3",
   "version": "3.10.16"
  }
 },
 "nbformat": 4,
 "nbformat_minor": 2
}
