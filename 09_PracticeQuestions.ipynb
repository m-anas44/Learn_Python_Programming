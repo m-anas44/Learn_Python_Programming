{
 "cells": [
  {
   "cell_type": "markdown",
   "metadata": {},
   "source": [
    "## **Beginner Level: Strengthen Fundamentals**\n",
    "***"
   ]
  },
  {
   "cell_type": "markdown",
   "metadata": {},
   "source": [
    "### 1. **Even or Odd:** Write a program that checks if a number is even or odd."
   ]
  },
  {
   "cell_type": "code",
   "execution_count": null,
   "metadata": {},
   "outputs": [
    {
     "name": "stdout",
     "output_type": "stream",
     "text": [
      "Invalid input! Please enter a valid integer.\n"
     ]
    }
   ],
   "source": [
    "def checkNumber(num):\n",
    "    \"\"\"Check if a number is even or odd.\"\"\"\n",
    "    if num % 2 == 0:\n",
    "        return f\"Number {num} is even\"\n",
    "    else:\n",
    "        return f\"Number {num} is odd\"\n",
    "\n",
    "# Taking input safely\n",
    "try:\n",
    "    userInput = int(input(\"Enter a number: \"))\n",
    "    print(checkNumber(userInput))\n",
    "except ValueError:\n",
    "    print(\"Invalid input! Please enter a valid integer.\")\n"
   ]
  },
  {
   "cell_type": "markdown",
   "metadata": {},
   "source": [
    "### 2. **Leap Year Checker:** Determine if a given year is a leap year."
   ]
  },
  {
   "cell_type": "code",
   "execution_count": 5,
   "metadata": {},
   "outputs": [
    {
     "name": "stdout",
     "output_type": "stream",
     "text": [
      "1900 is not a leap year\n"
     ]
    }
   ],
   "source": [
    "def checkLeapYear(year):\n",
    "    \"\"\"Check given year is a leap year or not\"\"\"\n",
    "    if (year % 4 == 0 and year % 100 != 0) or (year % 400 == 0):\n",
    "        return f\"{year} is a leap year\"\n",
    "    else:\n",
    "        return f\"{year} is not a leap year\"\n",
    "\n",
    "try:\n",
    "    year = int(input(\"Enter a year: \"))\n",
    "    print(checkLeapYear(year))\n",
    "except ValueError:\n",
    "    print(\"Invalid input. Please enter a valid integer for the year.\")"
   ]
  },
  {
   "cell_type": "markdown",
   "metadata": {},
   "source": [
    "### 3. **Sum of Digits:** Take a number as input and return the sum of its digits."
   ]
  },
  {
   "cell_type": "markdown",
   "metadata": {},
   "source": [
    "#### **1st Appraoch:**\n",
    "It's efficient performance wise but not in context of memory usage"
   ]
  },
  {
   "cell_type": "code",
   "execution_count": 32,
   "metadata": {},
   "outputs": [
    {
     "name": "stdout",
     "output_type": "stream",
     "text": [
      "Invalid input. Please enter a number\n"
     ]
    }
   ],
   "source": [
    "def sumNumberDigits(num):\n",
    "    \"\"\"Calculate the sum of digits of a given number.\"\"\"\n",
    "    sumOfDigits = 0\n",
    "    for number in str(num):\n",
    "        sumOfDigits += int(number)\n",
    "    return sumOfDigits\n",
    "\n",
    "try:\n",
    "    num = int(input(\"Enter a number: \"))\n",
    "    if num > 0:\n",
    "        print(f\"Your Number: {num}\")\n",
    "        print(sumNumberDigits(num))\n",
    "    elif num == 0:\n",
    "        print(\"Enter a number greater than 0\")\n",
    "    else:\n",
    "        print(\"Please enter a positive number\")\n",
    "\n",
    "except ValueError:\n",
    "    print(\"Invalid input. Please enter a number\")"
   ]
  },
  {
   "cell_type": "markdown",
   "metadata": {},
   "source": [
    "#### **2nd Appraoch:**\n",
    "\n",
    "**Use This Method** when you care about speed or memory"
   ]
  },
  {
   "cell_type": "code",
   "execution_count": 33,
   "metadata": {},
   "outputs": [
    {
     "name": "stdout",
     "output_type": "stream",
     "text": [
      "15\n",
      "11\n"
     ]
    }
   ],
   "source": [
    "def sumOfDigits(num):\n",
    "    \"\"\"Calculate the sum of digits of a given number.\"\"\"\n",
    "    num = abs(num)\n",
    "    total = 0\n",
    "    while num > 0:\n",
    "        total += num % 10\n",
    "        num //= 10\n",
    "    return total        \n",
    "\n",
    "print(sumOfDigits(12345))\n",
    "print(sumOfDigits(-74))\n"
   ]
  },
  {
   "cell_type": "markdown",
   "metadata": {},
   "source": [
    "#### **3rd Appraoch:**\n",
    "**Use This Method** When you care about clean, readable code"
   ]
  },
  {
   "cell_type": "code",
   "execution_count": 34,
   "metadata": {},
   "outputs": [
    {
     "name": "stdout",
     "output_type": "stream",
     "text": [
      "10\n"
     ]
    }
   ],
   "source": [
    "def sumOfAllDigits(num):\n",
    "    return sum(map(int, str(abs(num))))\n",
    "\n",
    "print(sumOfAllDigits(1234))"
   ]
  },
  {
   "cell_type": "markdown",
   "metadata": {},
   "source": [
    "### 4. **Reverse a String:** Implement a function that reverses a given string."
   ]
  },
  {
   "cell_type": "code",
   "execution_count": 22,
   "metadata": {},
   "outputs": [
    {
     "name": "stdout",
     "output_type": "stream",
     "text": [
      "ereht iH\n"
     ]
    }
   ],
   "source": [
    "def reverseString(quote):\n",
    "    \"\"\"Returns the reversed version of the input string.\"\"\"\n",
    "    return quote[::-1] # string slicing method / more effecient way\n",
    "\n",
    "quote = input(\"Enter any qoute: \")\n",
    "if not quote:\n",
    "    print(\"You didn't enter any quote\")\n",
    "else:\n",
    "    print(reverseString(quote))"
   ]
  },
  {
   "cell_type": "markdown",
   "metadata": {},
   "source": [
    "### 5. **Factorial Calculation:** Write a function to calculate the factorial of a number using loops."
   ]
  },
  {
   "cell_type": "code",
   "execution_count": null,
   "metadata": {},
   "outputs": [
    {
     "name": "stdout",
     "output_type": "stream",
     "text": [
      "24\n"
     ]
    }
   ],
   "source": [
    "def calculateFactorial(number):\n",
    "    \"\"\"Calculate the factorial of a non-negative integer using a while loop.\"\"\"\n",
    "    if number < 0:\n",
    "        return \"Factorial is not defined for negative numbers\"\n",
    "    fact = 1\n",
    "    if number == 0:\n",
    "        return fact\n",
    "    while number > 0:\n",
    "        fact *= number\n",
    "        number -= 1\n",
    "    return fact\n",
    "\n",
    "print(calculateFactorial(4))\n"
   ]
  },
  {
   "cell_type": "markdown",
   "metadata": {},
   "source": [
    "### 6. **Fibonacci Series:** Generate the first N terms of the Fibonacci sequence."
   ]
  },
  {
   "cell_type": "code",
   "execution_count": 47,
   "metadata": {},
   "outputs": [
    {
     "name": "stdout",
     "output_type": "stream",
     "text": [
      "[0, 1, 1, 2, 3, 5, 8, 13, 21, 34, 55, 89, 144, 233, 377, 610, 987, 1597, 2584, 4181]\n"
     ]
    }
   ],
   "source": [
    "def createSeries(length):\n",
    "    \"\"\"Creates the first N terms of the Fibonacci series.\"\"\"\n",
    "    a = 0\n",
    "    b = 1\n",
    "    series = [0, 1]\n",
    "    while len(series) < length:\n",
    "        nextDigit = a + b\n",
    "        a = b\n",
    "        b = nextDigit\n",
    "        series.append(nextDigit)\n",
    "    \n",
    "    return series\n",
    "\n",
    "print(createSeries(20))\n"
   ]
  },
  {
   "cell_type": "markdown",
   "metadata": {},
   "source": [
    "### 7. **Prime Number Checker:** Check if a given number is prime."
   ]
  },
  {
   "cell_type": "code",
   "execution_count": 61,
   "metadata": {},
   "outputs": [
    {
     "name": "stdout",
     "output_type": "stream",
     "text": [
      "1873 is a prime number\n"
     ]
    }
   ],
   "source": [
    "import math\n",
    "def checkPrime(number):\n",
    "    \"\"\"Check whether a number is a prime number or not\"\"\"\n",
    "    if number <= 1:\n",
    "        return f\"{number} is not a prime number\"\n",
    "    for i in range(2, int(math.sqrt(number)) + 1):\n",
    "        if number % i == 0:\n",
    "            return f\"{number} is not a prime number\"\n",
    "\n",
    "    return f\"{number} is a prime number\"\n",
    "\n",
    "print(checkPrime(1873))"
   ]
  },
  {
   "cell_type": "markdown",
   "metadata": {},
   "source": [
    "### 8. **Number Swapping:** Swap two numbers without using a third variable."
   ]
  },
  {
   "cell_type": "code",
   "execution_count": 65,
   "metadata": {},
   "outputs": [
    {
     "name": "stdout",
     "output_type": "stream",
     "text": [
      "Before swapping\n",
      "a = 10, b = 20\n",
      "After swapping\n",
      "a = 20, b = 10\n"
     ]
    }
   ],
   "source": [
    "def swap(a, b):\n",
    "    \"\"\"Swaps two numbers without using a third variable.\"\"\"\n",
    "    print(\"Before swapping\")\n",
    "    print(f\"a = {a}, b = {b}\")\n",
    "    a = a + b\n",
    "    b = a - b\n",
    "    a = a - b\n",
    "    print(\"After swapping\")\n",
    "    print(f\"a = {a}, b = {b}\")\n",
    "\n",
    "swap(10, 20)"
   ]
  },
  {
   "cell_type": "markdown",
   "metadata": {},
   "source": [
    "## **Intermediate Level: Strengthen Logic Building**\n",
    "***"
   ]
  },
  {
   "cell_type": "markdown",
   "metadata": {},
   "source": [
    "### 1. **Palindrome Checker:** Check if a given string or number is a palindrome."
   ]
  },
  {
   "cell_type": "code",
   "execution_count": 88,
   "metadata": {},
   "outputs": [
    {
     "name": "stdout",
     "output_type": "stream",
     "text": [
      "Given input \"radar\" is palindrome\n",
      "Given input \"hello\" is not palindrome\n",
      "Given input \"121\" is palindrome\n"
     ]
    }
   ],
   "source": [
    "def checkPalindrome(input):\n",
    "    \"\"\"Check if the given input is a palindrome (case-insensitive, trimmed).\"\"\"\n",
    "    input = input.strip().lower()\n",
    "    if input == input[::-1]:\n",
    "        return f\"Given input \\\"{input}\\\" is palindrome\"\n",
    "    else:\n",
    "        return f\"Given input \\\"{input}\\\" is not palindrome\"\n",
    "\n",
    "print(checkPalindrome(\"   rAdar\"))\n",
    "print(checkPalindrome(\"hEllo\"))\n",
    "print(checkPalindrome(\"121 \"))"
   ]
  },
  {
   "cell_type": "markdown",
   "metadata": {},
   "source": [
    "### 2. **Armstrong Number:** Determine whether a number is an Armstrong number (e.g., 153 = 1³ + 5³ + 3³)."
   ]
  },
  {
   "cell_type": "code",
   "execution_count": 107,
   "metadata": {},
   "outputs": [
    {
     "name": "stdout",
     "output_type": "stream",
     "text": [
      "153 is an armstrong number\n",
      "9474 is an armstrong number\n",
      "123 is not an armstrong number\n"
     ]
    }
   ],
   "source": [
    "def checkArmstrong(num):\n",
    "    \"\"\"Check whether a number is an Armstrong number.\"\"\"\n",
    "    if not isinstance(num, int) or num < 0:\n",
    "        return \"Please enter a valid positive integer.\"\n",
    "    \n",
    "    num = str(num)\n",
    "    powerOfDigits = len(num)\n",
    "    resultedValue = 0\n",
    "    for digit in num:\n",
    "        resultedValue += int(digit)**powerOfDigits\n",
    "    \n",
    "    if resultedValue == int(num):\n",
    "        return f\"{num} is an armstrong number\"\n",
    "    \n",
    "    return f\"{num} is not an armstrong number\"\n",
    "\n",
    "print(checkArmstrong(153))\n",
    "print(checkArmstrong(9474))  # another Armstrong number\n",
    "print(checkArmstrong(123))"
   ]
  },
  {
   "cell_type": "markdown",
   "metadata": {},
   "source": [
    "### 3. **Find Largest and Smallest:** Find the largest and smallest numbers in a list."
   ]
  },
  {
   "cell_type": "code",
   "execution_count": 1,
   "metadata": {},
   "outputs": [
    {
     "name": "stdout",
     "output_type": "stream",
     "text": [
      "Largest Number: 402\n",
      "Smallest Number: 1\n"
     ]
    }
   ],
   "source": [
    "def smallAndLargeNumber(numbers):\n",
    "    \"\"\"Return the largest and smallest numbers in a list.\"\"\"\n",
    "    if not numbers:\n",
    "        return \"The list is empty. Please provide a valid list of numbers.\"\n",
    "\n",
    "    maxNumber = max(numbers)\n",
    "    minNumber = min(numbers)\n",
    "    return f\"Largest Number: {maxNumber}\", f\"Smallest Number: {minNumber}\"\n",
    "\n",
    "result = smallAndLargeNumber([2, 93, 34, 12, 4, 1, 53, 20, 402, 249])\n",
    "print(result[0])\n",
    "print(result[1])\n"
   ]
  },
  {
   "cell_type": "markdown",
   "metadata": {},
   "source": [
    "### 4. **Remove Duplicates:** Remove duplicate elements from a list without using set()."
   ]
  },
  {
   "cell_type": "code",
   "execution_count": 2,
   "metadata": {},
   "outputs": [
    {
     "name": "stdout",
     "output_type": "stream",
     "text": [
      "[1, 2, 3, 4, 5]\n"
     ]
    }
   ],
   "source": [
    "def removeDuplicates(myList):\n",
    "    \"\"\"Remove duplicate elements from a list without using set().\"\"\"\n",
    "    uniqueList = []\n",
    "    for number in myList:\n",
    "        if number not in uniqueList:\n",
    "            uniqueList.append(number)\n",
    "\n",
    "    return uniqueList\n",
    "\n",
    "print(removeDuplicates([1, 2, 2, 3, 4, 3, 5]))"
   ]
  },
  {
   "cell_type": "markdown",
   "metadata": {},
   "source": [
    "### 5. **String Compression:** Compress a string using character counts (e.g., \"aaabbc\" → \"a3b2c1\")."
   ]
  },
  {
   "cell_type": "code",
   "execution_count": 11,
   "metadata": {},
   "outputs": [
    {
     "name": "stdout",
     "output_type": "stream",
     "text": [
      "a3b2h4k2\n"
     ]
    }
   ],
   "source": [
    "def stringCompression(stringValue):\n",
    "    \"\"\"Compress a string by replacing repeated characters with the character followed by the count.\"\"\"\n",
    "    if not stringValue:\n",
    "        return \"\"\n",
    "\n",
    "    compressed = \"\"\n",
    "    count = 1\n",
    "\n",
    "    for i in range(len(stringValue) - 1):\n",
    "        if stringValue[i] == stringValue[i + 1]:\n",
    "            count += 1\n",
    "        else:\n",
    "            compressed += stringValue[i] + str(count)\n",
    "            count = 1\n",
    "\n",
    "    compressed += stringValue[-1] + str(count)\n",
    "    return compressed\n",
    "\n",
    "print(stringCompression(\"aaabbhhhhkk\"))\n"
   ]
  },
  {
   "cell_type": "markdown",
   "metadata": {},
   "source": [
    "### 6. **Count Vowels and Consonants:** Count the number of vowels and consonants in a string."
   ]
  },
  {
   "cell_type": "code",
   "execution_count": 16,
   "metadata": {},
   "outputs": [
    {
     "name": "stdout",
     "output_type": "stream",
     "text": [
      "Vowel count: 7\n",
      "Consonant Count: 8\n",
      "(0, 0)\n",
      "(0, 0)\n"
     ]
    }
   ],
   "source": [
    "def countVowelConsonants(myString):\n",
    "    \"\"\"Count the number of vowels and consonants in a string\"\"\"\n",
    "    vowels = \"aeiouAEIOU\"\n",
    "    vowelCount = 0\n",
    "    consonantCount = 0\n",
    "    for char in myString:\n",
    "        if char in vowels:\n",
    "            vowelCount += 1\n",
    "        elif char.isalpha():\n",
    "            consonantCount += 1\n",
    "\n",
    "    return vowelCount, consonantCount\n",
    "\n",
    "result = countVowelConsonants(\"We are Pakistanis\")\n",
    "print(f\"Vowel count: {result[0]}\")\n",
    "print(f\"Consonant Count: {result[1]}\")\n",
    "\n",
    "print(countVowelConsonants(\"\"))\n",
    "print(countVowelConsonants(\"123 !@#\"))"
   ]
  },
  {
   "cell_type": "markdown",
   "metadata": {},
   "source": [
    "### 7. **Sum of Even and Odd Numbers:** Take a list and find the sum of even and odd numbers separately."
   ]
  },
  {
   "cell_type": "code",
   "execution_count": 22,
   "metadata": {},
   "outputs": [
    {
     "name": "stdout",
     "output_type": "stream",
     "text": [
      "Even Sum: 126\n",
      "Odd Sum: 209\n"
     ]
    }
   ],
   "source": [
    "def findSumSeparately(myList):\n",
    "    \"\"\"Finding sum of even and odd numbers in a list.\"\"\"\n",
    "    if not myList:\n",
    "        return \"List is empty.\"\n",
    "    \n",
    "    evenSum = 0\n",
    "    oddSum = 0\n",
    "\n",
    "    for number in myList:\n",
    "        if number % 2 == 0:\n",
    "            evenSum += number\n",
    "        else:\n",
    "            oddSum += number\n",
    "\n",
    "    return evenSum, oddSum\n",
    "\n",
    "sumResult = findSumSeparately([2, 4, 5, 3, 7, 19, 93, 42, 23, 78, 59])\n",
    "print(f\"Even Sum: {sumResult[0]}\")\n",
    "print(f\"Odd Sum: {sumResult[1]}\")"
   ]
  },
  {
   "cell_type": "markdown",
   "metadata": {},
   "source": [
    "### 8. **Reverse Words in a Sentence:** Given \"Hello World\", output \"World Hello\"."
   ]
  },
  {
   "cell_type": "code",
   "execution_count": null,
   "metadata": {},
   "outputs": [
    {
     "name": "stdout",
     "output_type": "stream",
     "text": [
      "No added string input\n",
      "No added string input\n",
      "Python\n",
      "Python love I\n"
     ]
    }
   ],
   "source": [
    "def reverseWords(stringArg):\n",
    "    \"\"\"\n",
    "    Reverse the words in a string.\n",
    "    Example: \"Hello World\" → \"World Hello\"\n",
    "    \"\"\"\n",
    "    if not stringArg.strip():\n",
    "        return \"No added string input\"\n",
    "\n",
    "    wordsList = stringArg.strip().split()\n",
    "    reversed_string = \" \".join(reversed(wordsList))\n",
    "    return reversed_string\n",
    "\n",
    "print(reverseWords(\"\"))\n",
    "print(reverseWords(\"     \"))\n",
    "print(reverseWords(\"Python\"))\n",
    "print(reverseWords(\"  I  love Python  \")) "
   ]
  },
  {
   "cell_type": "markdown",
   "metadata": {},
   "source": [
    "## **Advanced Level: Problem-Solving and Efficiency**\n",
    "***"
   ]
  },
  {
   "cell_type": "markdown",
   "metadata": {},
   "source": [
    "### 1. **Two Sum Problem:** Find two numbers in a list that sum to a given target."
   ]
  },
  {
   "cell_type": "code",
   "execution_count": null,
   "metadata": {},
   "outputs": [
    {
     "name": "stdout",
     "output_type": "stream",
     "text": [
      "(6, 8) at (4, 5)\n"
     ]
    }
   ],
   "source": [
    "def findTwoSum(nums, target):\n",
    "    \"\"\"Find two numbers in the list whose sum equals the target.\"\"\"\n",
    "    if not nums:\n",
    "        return \"List is empty.\"\n",
    "    if target is None:\n",
    "        return \"Target must be provided.\"\n",
    "\n",
    "    for i in range(len(nums)):\n",
    "        for j in range(i + 1, len(nums)):\n",
    "            if nums[i] + nums[j] == target:\n",
    "                return f\"({nums[i]}, {nums[j]}) at indices ({i}, {j})\"\n",
    "\n",
    "    return \"No pair in the list adds up to the target.\"\n",
    "\n",
    "print(findTwoSum([5, 2, 7, 3, 6, 8], 14))\n"
   ]
  },
  {
   "cell_type": "markdown",
   "metadata": {},
   "source": [
    "### 2. **Anagram Checker:** Check if two strings are anagrams of each other."
   ]
  },
  {
   "cell_type": "markdown",
   "metadata": {},
   "source": [
    "- Not a good method having logical error at some strings"
   ]
  },
  {
   "cell_type": "code",
   "execution_count": null,
   "metadata": {},
   "outputs": [
    {
     "name": "stdout",
     "output_type": "stream",
     "text": [
      "Given strings are anagrams\n"
     ]
    }
   ],
   "source": [
    "def checkAnagrams(firstString, secondString):\n",
    "    \"\"\"Check if two string are anagrams of each other\"\"\"\n",
    "    firstString = firstString.strip().lower()\n",
    "    secondString = secondString.strip().lower()\n",
    "    if len(firstString) == len(secondString):\n",
    "        for i in range(len(firstString)):\n",
    "            if firstString[i] not in secondString:\n",
    "                return \"Given strings are not anagrams\"\n",
    "                \n",
    "        return \"Given strings are anagrams\"\n",
    "    return \"Given strings are not anagrams\"\n",
    "\n",
    "print(checkAnagrams(\"silent\", \"listen\"))"
   ]
  },
  {
   "cell_type": "markdown",
   "metadata": {},
   "source": [
    "- Right approach"
   ]
  },
  {
   "cell_type": "code",
   "execution_count": 25,
   "metadata": {},
   "outputs": [
    {
     "name": "stdout",
     "output_type": "stream",
     "text": [
      "['e', 'h', 'l', 'l', 'o']\n",
      "['e', 'h', 'l', 'l']\n",
      "Given strings are not anagrams\n"
     ]
    }
   ],
   "source": [
    "def checkAnagrams(firstString, secondString):\n",
    "    \"\"\"Check if two strings are anagrams of each other.\"\"\"\n",
    "    firstString = firstString.strip().lower()\n",
    "    secondString = secondString.strip().lower()\n",
    "    print(sorted(firstString))\n",
    "    print(sorted(secondString))\n",
    "    if sorted(firstString) == sorted(secondString):\n",
    "        return \"Given strings are anagrams\"\n",
    "    else:\n",
    "        return \"Given strings are not anagrams\"\n",
    "\n",
    "print(checkAnagrams(\"hello\", \"hell\"))\n"
   ]
  },
  {
   "cell_type": "markdown",
   "metadata": {},
   "source": [
    "### 3. **Matrix Multiplication:** Multiply two 2D matrices."
   ]
  },
  {
   "cell_type": "code",
   "execution_count": 6,
   "metadata": {},
   "outputs": [
    {
     "name": "stdout",
     "output_type": "stream",
     "text": [
      "[[17, 13], [43, 37]]\n"
     ]
    }
   ],
   "source": [
    "def matrixMultiplication(matrixA, matrixB):\n",
    "    \"\"\"Multiplication of 2D matrices\"\"\"\n",
    "    if len(matrixA[0]) != len(matrixB):\n",
    "        return \"Cannot multiply, Incompatible dimensions\"\n",
    "    \n",
    "    # Define result matrix with 0 at every index\n",
    "    #                               columns(2)                    rows(2)\n",
    "    result = [[0 for _ in range(len(matrixA[0]))] for _ in range(len(matrixB))]\n",
    "\n",
    "    # Perform matrix multiplication\n",
    "    for i in range(len(matrixA)):             # 0,       1,       end,       0,       1\n",
    "        for j in range(len(matrixB[0])):       # 0,      1,       end,       0,      1\n",
    "            for k in range(len(matrixA[0])):    # 0,      1,      end,      0,      1\n",
    "                result[i][j] += matrixA[i][k] * matrixB[k][j] \n",
    "                # result[0][0] += matrixA[0][0] * matrixB[0][0] 0 + (1 X 2)\n",
    "                # result[0][0] += matrixA[0][1] * matrixB[1][0] 2 + (3 X 5)\n",
    "\n",
    "                # result[0][1] += matrixA[0][0] * matrixB[0][1] 0 + (1 X 4)\n",
    "                # result[0][1] += matrixA[0][1] * matrixB[1][1] 4 + (3 X 3)\n",
    "\n",
    "                # result[1][0] += matrixA[1][0] * matrixB[0][0] 0 + (4 X 2)\n",
    "                # result[1][0] += matrixA[1][1] * matrixB[1][0] 8 + (7 X 5)\n",
    "\n",
    "                # result[1][1] += matrixA[1][0] * matrixB[0][1] 0 + (4 X 4)\n",
    "                # result[1][1] += matrixA[1][1] * matrixB[1][1] 16 + (7 X 3)\n",
    "\n",
    "\n",
    "    return result\n",
    "    # | 0+1X2+3X5  0+1X4+3X3 |\n",
    "    # | 0+4X2+7X5  0+4X4+7X3 |\n",
    "\n",
    "matrixA = [[1, 3],\n",
    "           [4, 7]]\n",
    "matrixB = [[2, 4],\n",
    "           [5, 3]]\n",
    "\n",
    "print(matrixMultiplication(matrixA, matrixB))"
   ]
  },
  {
   "cell_type": "markdown",
   "metadata": {},
   "source": [
    "### 4. **Find Second Largest Element:** Find the second largest number in a list without using sorted()."
   ]
  },
  {
   "cell_type": "code",
   "execution_count": 10,
   "metadata": {},
   "outputs": [
    {
     "name": "stdout",
     "output_type": "stream",
     "text": [
      "21\n"
     ]
    }
   ],
   "source": [
    "def findSecondLargeNumber(myList):\n",
    "    \"\"\"Finding 2nd largest number in list without using sorted() function\"\"\"\n",
    "    if not myList:\n",
    "        return \"List is empty\"\n",
    "    elif len(myList) < 2:\n",
    "        return \"List should have more than 1 elements to find 2nd largest number\"\n",
    "    else:\n",
    "        for i in range(len(myList)):\n",
    "            for j in range(i + 1, len(myList)):\n",
    "                if myList[i] > myList[j]:\n",
    "                    temp = myList[i]\n",
    "                    myList[i] = myList[j]\n",
    "                    myList[j] = temp\n",
    "        \n",
    "        return myList[-2]\n",
    "print(findSecondLargeNumber([4, 2, 7, 22, 8, 21]))"
   ]
  },
  {
   "cell_type": "code",
   "execution_count": 3,
   "metadata": {},
   "outputs": [
    {
     "name": "stdout",
     "output_type": "stream",
     "text": [
      "No second largest (all elements equal)\n"
     ]
    }
   ],
   "source": [
    "def findSecondLargeNumber(myList):\n",
    "    if not myList:\n",
    "        return \"List is empty\"\n",
    "    elif len(myList) < 2:\n",
    "        return \"List should have more than 1 element\"\n",
    "\n",
    "    largest = second = float('-inf')\n",
    "\n",
    "    for num in myList:\n",
    "        if num > largest:\n",
    "            second = largest\n",
    "            largest = num\n",
    "        elif largest > num > second:\n",
    "            second = num\n",
    "\n",
    "    return second if second != float('-inf') else \"No second largest (all elements equal)\"\n",
    "\n",
    "print(findSecondLargeNumber([3, 3, 3, 3, 3]))"
   ]
  },
  {
   "cell_type": "markdown",
   "metadata": {},
   "source": [
    "### 5. **Binary Search:** Implement binary search on a sorted list.\n",
    "\n",
    "##### **Using resursion method**"
   ]
  },
  {
   "cell_type": "code",
   "execution_count": null,
   "metadata": {},
   "outputs": [
    {
     "data": {
      "text/plain": [
       "'No target found!'"
      ]
     },
     "execution_count": 52,
     "metadata": {},
     "output_type": "execute_result"
    }
   ],
   "source": [
    "def binarySearch(myList, target):\n",
    "    if not myList:\n",
    "        return \"No target found!\"\n",
    "    \n",
    "    mid = len(myList) // 2\n",
    "    if myList[mid] == target:\n",
    "        return \"Target found!\"\n",
    "    elif myList[mid] < target:\n",
    "        return binarySearch(myList[mid+1:], target)\n",
    "    else:\n",
    "        return binarySearch(myList[:mid], target)\n",
    "\n",
    "binarySearch([1, 2, 4, 6, 8, 9, 10], 5)"
   ]
  },
  {
   "cell_type": "markdown",
   "metadata": {},
   "source": [
    "##### **Iterative Version (More efficient, avoids slicing)**"
   ]
  },
  {
   "cell_type": "code",
   "execution_count": null,
   "metadata": {},
   "outputs": [
    {
     "data": {
      "text/plain": [
       "'Target 8 found at index 4'"
      ]
     },
     "execution_count": 55,
     "metadata": {},
     "output_type": "execute_result"
    }
   ],
   "source": [
    "def binarySearching(myList, target):    \n",
    "    left = 0\n",
    "    right = len(myList) - 1\n",
    "\n",
    "    while left <= right:\n",
    "        mid = (left + right) // 2\n",
    "        if myList[mid] == target:\n",
    "            return f\"Target {target} found at index {mid}\"\n",
    "        elif myList[mid] < target:\n",
    "            left = mid + 1\n",
    "        else:\n",
    "            right = mid - 1\n",
    "\n",
    "    return \"Target not found\"\n",
    "\n",
    "binarySearching([1, 2, 4, 6, 8, 9, 12], 8)"
   ]
  },
  {
   "cell_type": "markdown",
   "metadata": {},
   "source": [
    "### 6. **Pattern Printing:** Print patterns like:\n",
    "```bash\n",
    "*\n",
    "* *\n",
    "* * *\n",
    "* * * *"
   ]
  },
  {
   "cell_type": "code",
   "execution_count": 31,
   "metadata": {},
   "outputs": [
    {
     "name": "stdout",
     "output_type": "stream",
     "text": [
      "*\n",
      "* *\n",
      "* * *\n",
      "* * * *\n",
      "* * * * *\n"
     ]
    }
   ],
   "source": [
    "def printPattern(rows):\n",
    "    \"\"\"Printing a star pattern with given number of rows\"\"\"\n",
    "    for i in range(rows):\n",
    "        for _ in range(i):\n",
    "            print(\"*\", end=\" \")\n",
    "        print(\"*\")  \n",
    "\n",
    "printPattern(5)"
   ]
  },
  {
   "cell_type": "markdown",
   "metadata": {},
   "source": [
    "### 7. **Longest Substring Without Repeating Characters:** Find the longest substring in a string where no character repeats."
   ]
  },
  {
   "cell_type": "code",
   "execution_count": 13,
   "metadata": {},
   "outputs": [
    {
     "data": {
      "text/plain": [
       "'kistanu'"
      ]
     },
     "execution_count": 13,
     "metadata": {},
     "output_type": "execute_result"
    }
   ],
   "source": [
    "def findLongestSubstring(stringValue):\n",
    "    \"\"\"Finds the longest substring without repeating characters\"\"\"\n",
    "    if not stringValue:\n",
    "        return \"No string value given\"\n",
    "\n",
    "    stringValue = stringValue.lower().strip()\n",
    "    charSet = set()\n",
    "    longest = \"\"\n",
    "    start = 0\n",
    "\n",
    "    for end in range(len(stringValue)):\n",
    "        while stringValue[end] in charSet:\n",
    "            # Remove characters from the start until the duplicate is gone\n",
    "            charSet.remove(stringValue[start])\n",
    "            start += 1\n",
    "        \n",
    "        charSet.add(stringValue[end])\n",
    "        \n",
    "        # Update the longest substring if current window is longer\n",
    "        if end - start + 1 > len(longest):\n",
    "            longest = stringValue[start:end + 1]\n",
    "\n",
    "    return longest\n",
    "\n",
    "findLongestSubstring(\"Pakistanu\")"
   ]
  },
  {
   "cell_type": "markdown",
   "metadata": {},
   "source": [
    "\n",
    "\n",
    "Balanced Parentheses Checker: Check if an expression like \"( [ { } ] )\" has balanced parentheses."
   ]
  },
  {
   "cell_type": "code",
   "execution_count": null,
   "metadata": {},
   "outputs": [],
   "source": []
  }
 ],
 "metadata": {
  "kernelspec": {
   "display_name": "env3_10",
   "language": "python",
   "name": "python3"
  },
  "language_info": {
   "codemirror_mode": {
    "name": "ipython",
    "version": 3
   },
   "file_extension": ".py",
   "mimetype": "text/x-python",
   "name": "python",
   "nbconvert_exporter": "python",
   "pygments_lexer": "ipython3",
   "version": "3.10.16"
  }
 },
 "nbformat": 4,
 "nbformat_minor": 2
}
