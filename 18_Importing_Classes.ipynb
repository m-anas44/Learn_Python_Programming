{
 "cells": [
  {
   "cell_type": "markdown",
   "id": "91685d2c",
   "metadata": {},
   "source": [
    "### **Importing Classes**"
   ]
  },
  {
   "cell_type": "code",
   "execution_count": 1,
   "id": "fd7da42e",
   "metadata": {},
   "outputs": [
    {
     "name": "stdout",
     "output_type": "stream",
     "text": [
      "2024 Audi A4\n",
      "This car has 23 miles on it.\n"
     ]
    }
   ],
   "source": [
    "from index import Car\n",
    "\n",
    "new_car = Car(\"Audi\", \"a4\", 2024)\n",
    "print(new_car.get_descriptive_name())\n",
    "\n",
    "new_car.odometer_reading = 23\n",
    "new_car.read_odometer()"
   ]
  },
  {
   "cell_type": "markdown",
   "id": "8e267067",
   "metadata": {},
   "source": [
    "### **Importing Classes Using Aliases**\n",
    "\n",
    "Consider a program where you want to make a bunch of electric cars. It might get tedious to type (and read) Car over and over again. You can give `Car` an alias in the import statement:"
   ]
  },
  {
   "cell_type": "code",
   "execution_count": 2,
   "id": "e5006057",
   "metadata": {},
   "outputs": [
    {
     "name": "stdout",
     "output_type": "stream",
     "text": [
      "2024 Audi A4\n",
      "This car has 23 miles on it.\n"
     ]
    }
   ],
   "source": [
    "from index import Car as C\n",
    "\n",
    "new_car = C(\"Audi\", \"a4\", 2024)\n",
    "print(new_car.get_descriptive_name())\n",
    "\n",
    "new_car.odometer_reading = 23\n",
    "new_car.read_odometer()"
   ]
  },
  {
   "cell_type": "markdown",
   "id": "80c881c5",
   "metadata": {},
   "source": [
    "You can also give a module an alias. Here’s how to import the entire `car` module using an alias:\n",
    "\n",
    "```bash\n",
    "import car as c\n",
    "```"
   ]
  },
  {
   "cell_type": "markdown",
   "id": "74f46798",
   "metadata": {},
   "source": [
    "### **1. Imported Restaurant:**\n",
    "- Using your latest `Restaurant` class, store it in a module. Make a separate file that imports Restaurant. \n",
    "- Make a `Restaurant` instance, and call one of Restaurant’s methods to show that the import statement is working properly."
   ]
  },
  {
   "cell_type": "code",
   "execution_count": 4,
   "id": "80ea9afe",
   "metadata": {},
   "outputs": [
    {
     "name": "stdout",
     "output_type": "stream",
     "text": [
      "E-Cafe carries delicious tastes with Fast Foods\n"
     ]
    }
   ],
   "source": [
    "from restaurant import Restaurant as R\n",
    "\n",
    "restaurant = R(\"E-Cafe\", \"Fast Foods\")\n",
    "restaurant.describe_restaurant()"
   ]
  },
  {
   "cell_type": "markdown",
   "id": "0fdced56",
   "metadata": {},
   "source": [
    "### **2. Imported Admin:**\n",
    "- Start with your work from File 17-8 . Store the classes `User`, `Privileges`, and `Admin` in one module. \n",
    "- Create a separate file, make an `Admin` instance, and call **show_privileges()** to show that everything is working correctly."
   ]
  },
  {
   "cell_type": "code",
   "execution_count": 8,
   "id": "aeb3c50e",
   "metadata": {},
   "outputs": [
    {
     "name": "stdout",
     "output_type": "stream",
     "text": [
      "Admin Privileges:\n",
      "1: can add post\n",
      "2: can delete post\n",
      "3: can ban user\n"
     ]
    }
   ],
   "source": [
    "from upa import Admin\n",
    "\n",
    "privs = [\"can add post\", \"can delete post\", \"can ban user\"]\n",
    "admin = Admin(\"Muhammad\", \"Qasim\", 23, \"Male\", privs)\n",
    "\n",
    "admin.privileges.show_privileges()"
   ]
  },
  {
   "cell_type": "markdown",
   "id": "d76942c5",
   "metadata": {},
   "source": [
    "### **3. Multiple Modules:**\n",
    "- Store the `User` class in one module, and store the `Privileges` and `Admin` classes in a separate module. \n",
    "- In a separate file, create an `Admin` instance and call *show_privileges()* to show that everything is still working correctly."
   ]
  },
  {
   "cell_type": "code",
   "execution_count": 15,
   "id": "2506952d",
   "metadata": {},
   "outputs": [
    {
     "name": "stdout",
     "output_type": "stream",
     "text": [
      "Admin Privileges:\n",
      "1: can add post\n",
      "2: can delete post\n",
      "3: can ban user\n"
     ]
    }
   ],
   "source": [
    "from privileges_admin import Admin\n",
    "\n",
    "privs = [\"can add post\", \"can delete post\", \"can ban user\"]\n",
    "admin = Admin(\"Muhammad\", \"Qasim\", 23, \"Male\", privs)\n",
    "\n",
    "admin.privileges.show_privileges()"
   ]
  }
 ],
 "metadata": {
  "kernelspec": {
   "display_name": "env3_10",
   "language": "python",
   "name": "python3"
  },
  "language_info": {
   "codemirror_mode": {
    "name": "ipython",
    "version": 3
   },
   "file_extension": ".py",
   "mimetype": "text/x-python",
   "name": "python",
   "nbconvert_exporter": "python",
   "pygments_lexer": "ipython3",
   "version": "3.10.16"
  }
 },
 "nbformat": 4,
 "nbformat_minor": 5
}
