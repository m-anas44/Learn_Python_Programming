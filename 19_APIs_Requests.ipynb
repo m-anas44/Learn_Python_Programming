{
 "cells": [
  {
   "cell_type": "markdown",
   "id": "d534f3b6",
   "metadata": {},
   "source": [
    "## **What is an API?**\n",
    "An API, or Application Programming Interface, is a bridge that allows two different systems to communicate with each other remotely. Consider this analogy:\n",
    "\n",
    "- You go to a restaurant and place an order with the waiter.\n",
    "- The waiter conveys your order to the kitchen.\n",
    "- The kitchen prepares the dish and gives it to the waiter.\n",
    "- The waiter then serves you the dish.\n",
    "In this scenario:\n",
    "\n",
    "- **You (the client)** generate the request.\n",
    "- **The waiter (the API)** carries the request and the response between you and the kitchen.\n",
    "- **The kitchen (the server)** processes the request and provides the data or service.\n",
    "APIs serve as intermediaries, handling requests from clients and fetching or modifying data from servers accordingly. This ensures seamless data exchange across different systems.\n",
    "\n",
    "## **Key Components in API Communication**\n",
    "1. **Client:** The device or application initiating the request (e.g., your laptop or smartphone).\n",
    "2. **API:** Acts as the messenger, transferring requests and responses between client and server.\n",
    "3. **Server:** The system where data or services reside, responding to client requests.\n",
    "**Example:** Using ChatGPT involves your device (client) sending a request through an API to ChatGPT’s servers located remotely. The server processes your query and sends back the response via the API.\n",
    "\n",
    "### **How Do APIs Work?**\n",
    "1. **Request:** The client sends a request to the API specifying what data or action is required.\n",
    "2. **Processing:** The server receives the request, processes it, and prepares a response.\n",
    "3. **Response:** The API sends the processed data or confirmation back to the client.\n",
    "\n",
    "## **Using APIs in Python**\n",
    "#### **Request Module**\n",
    "Python offers a popular package called `requests` (note the plural) to work with APIs, especially REST APIs. It allows developers to generate HTTP requests without loading unnecessary modules.\n",
    "\n",
    "**Installation:**\n",
    "\n",
    "> pip install requests\n",
    "\n",
    "**Common HTTP Methods:**\n",
    "- **GET:** Retrieve data from a server.\n",
    "- **POST:** Send data to a server to create or update resources.\n",
    "\n",
    "### **Example: Making a GET Request**"
   ]
  },
  {
   "cell_type": "code",
   "execution_count": 9,
   "id": "505a2228",
   "metadata": {},
   "outputs": [
    {
     "name": "stdout",
     "output_type": "stream",
     "text": [
      "Status Code: 200\n",
      "First 5 Posts:\n",
      "{'userId': 1, 'id': 1, 'title': 'sunt aut facere repellat provident occaecati excepturi optio reprehenderit', 'body': 'quia et suscipit\\nsuscipit recusandae consequuntur expedita et cum\\nreprehenderit molestiae ut ut quas totam\\nnostrum rerum est autem sunt rem eveniet architecto'}\n",
      "{'userId': 1, 'id': 2, 'title': 'qui est esse', 'body': 'est rerum tempore vitae\\nsequi sint nihil reprehenderit dolor beatae ea dolores neque\\nfugiat blanditiis voluptate porro vel nihil molestiae ut reiciendis\\nqui aperiam non debitis possimus qui neque nisi nulla'}\n",
      "{'userId': 1, 'id': 3, 'title': 'ea molestias quasi exercitationem repellat qui ipsa sit aut', 'body': 'et iusto sed quo iure\\nvoluptatem occaecati omnis eligendi aut ad\\nvoluptatem doloribus vel accusantium quis pariatur\\nmolestiae porro eius odio et labore et velit aut'}\n",
      "{'userId': 1, 'id': 4, 'title': 'eum et est occaecati', 'body': 'ullam et saepe reiciendis voluptatem adipisci\\nsit amet autem assumenda provident rerum culpa\\nquis hic commodi nesciunt rem tenetur doloremque ipsam iure\\nquis sunt voluptatem rerum illo velit'}\n",
      "{'userId': 1, 'id': 5, 'title': 'nesciunt quas odio', 'body': 'repudiandae veniam quaerat sunt sed\\nalias aut fugiat sit autem sed est\\nvoluptatem omnis possimus esse voluptatibus quis\\nest aut tenetur dolor neque'}\n"
     ]
    }
   ],
   "source": [
    "import requests\n",
    "\n",
    "# Define the URL of the API endpoint\n",
    "url = \"https://jsonplaceholder.typicode.com/posts\"\n",
    "\n",
    "# Send the GET request\n",
    "response = requests.get(url)\n",
    "\n",
    "# Print the status code and content\n",
    "print(f\"Status Code: {response.status_code}\")\n",
    "# response = response[0]\n",
    "\n",
    "# Get the JSON response\n",
    "data = response.json()\n",
    "\n",
    "# Print only the first 10 results\n",
    "print(\"First 5 Posts:\")\n",
    "for post in data[:5]:\n",
    "    print(post)"
   ]
  },
  {
   "cell_type": "markdown",
   "id": "d83e1ce1",
   "metadata": {},
   "source": [
    "- **Status Code 200:** Indicates a successful API call.\n",
    "- **Error Handling:** If the requests package is not installed, an error like `ModuleNotFoundError` will appear. Installing the package and activating the appropriate Python environment resolves this.\n",
    "\n",
    "### **Example: Making a POST Request**"
   ]
  },
  {
   "cell_type": "code",
   "execution_count": null,
   "id": "526183af",
   "metadata": {},
   "outputs": [
    {
     "name": "stdout",
     "output_type": "stream",
     "text": [
      "Status Code: 201\n",
      "Response Content: {'title': 'New Post', 'body': 'This is a new post created using the requests module.', 'userId': 1, 'id': 101}\n"
     ]
    }
   ],
   "source": [
    "import requests\n",
    "\n",
    "url = \"https://jsonplaceholder.typicode.com/posts\"\n",
    "\n",
    "# Data to send with the request\n",
    "data = {\n",
    "    \"title\": \"New Post\",\n",
    "    \"body\": \"This is a new post created using the requests module.\",\n",
    "    \"userId\": 1\n",
    "}\n",
    "\n",
    "# Send the POST request\n",
    "response = requests.post(url, json=data)\n",
    "\n",
    "# Print status code and the response content\n",
    "print(f\"Status Code: {response.status_code}\")\n",
    "\n",
    "print(\"Response Content:\", response.json())"
   ]
  },
  {
   "cell_type": "markdown",
   "id": "73cfff0f",
   "metadata": {},
   "source": [
    "- **Status Code 201:** Indicates resource creation was successful.\n",
    "- The data is sent in JSON format, which is the commonly accepted data interchange format.\n",
    "\n",
    "## **API Endpoints Explained**\n",
    "An API Endpoint is the specific URL or address where the API service resides. Think of it as the address of a house you want to visit.\n",
    "\n",
    "**Example Endpoint:**\n",
    "> https://api.weather.com/forecast\n",
    "- When your device requests data (e.g., weather or social media content), it sends the request to the appropriate endpoint.\n",
    "- The endpoint determines which server and data the client accesses.\n",
    "\n",
    "\n",
    "## **Types of APIs**\n",
    "- **REST APIs:** Most common, using HTTP protocols to exchange data in text formats like JSON.\n",
    "- **SOAP APIs:** Older, more complex protocols (less common in modern applications).\n",
    "- **GraphQL APIs:** More flexible query language, but less commonly used compared to REST.\n",
    "**Note:** This lecture focuses primarily on REST APIs due to their widespread use.\n",
    "\n",
    "## **Practical Insights and Common Use Cases**\n",
    "- **Weather Apps:** Fetch real-time weather data by making GET requests to a weather API.\n",
    "- **Social Media:** Apps constantly synchronize with servers via APIs to display up-to-date content.\n",
    "- **Payment Gateways and Maps:** APIs enable secure payment processing and dynamic map data (e.g., Google Maps).\n",
    "\n",
    "## **Importance of Error Handling in APIs**\n",
    "- Always implement exception handling to manage failed API calls gracefully.\n",
    "- If an API call fails, the response code will indicate the error type (e.g., 404 Not Found, 500 Server Error).\n",
    "- Proper error handling helps diagnose whether the issue is client-side, network-related, or server-side."
   ]
  },
  {
   "cell_type": "code",
   "execution_count": 3,
   "id": "dac08b53",
   "metadata": {},
   "outputs": [
    {
     "name": "stdout",
     "output_type": "stream",
     "text": [
      "Request successful!\n"
     ]
    }
   ],
   "source": [
    "import requests\n",
    "\n",
    "url = \"https://jsonplaceholder.typicode.com/posts\"\n",
    "response = requests.get(url)\n",
    "\n",
    "# Check if the request was successful\n",
    "if response.status_code == 200:\n",
    "    print(\"Request successful!\")\n",
    "\n",
    "else:\n",
    "    print(f\"Error {response.status_code}: Unable to fetch data.\")"
   ]
  },
  {
   "cell_type": "markdown",
   "id": "32ad6068",
   "metadata": {},
   "source": [
    "## 🔄 Summary of API Workflow\n",
    "| Step       | Description                                              |\n",
    "|------------|----------------------------------------------------------|\n",
    "| Request    | Client sends a request via API to the server.            |\n",
    "| Processing | Server processes request and prepares a response.        |\n",
    "| Response   | API returns data or status code back to client.          |"
   ]
  }
 ],
 "metadata": {
  "kernelspec": {
   "display_name": "env3_10",
   "language": "python",
   "name": "python3"
  },
  "language_info": {
   "codemirror_mode": {
    "name": "ipython",
    "version": 3
   },
   "file_extension": ".py",
   "mimetype": "text/x-python",
   "name": "python",
   "nbconvert_exporter": "python",
   "pygments_lexer": "ipython3",
   "version": "3.10.16"
  }
 },
 "nbformat": 4,
 "nbformat_minor": 5
}
