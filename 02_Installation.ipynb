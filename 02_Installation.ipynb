{
 "cells": [
  {
   "cell_type": "markdown",
   "metadata": {},
   "source": [
    "## 1.  Lecture Overview\n",
    "In the previous lecture, we covered what Python is and who should learn it. We also discussed the skills you can develop after learning Python. In today’s lecture, we will focus on setting up Python on your system. We’ll go through the installation steps for the necessary tools, and then execute our first Python program.\n",
    "\n",
    " \n",
    "\n",
    "## 2.  Why Do We Need to Set Up Python?\n",
    "Before you can start writing and running Python code, you need to install Python and some essential tools on your computer. These tools will help you manage Python packages, create virtual environments, and make coding easier.\n",
    "\n",
    " \n",
    "\n",
    "## 3.  What We Will Install Today\n",
    "Here’s a step-by-step breakdown of what we’ll install:\n",
    "\n",
    "- **Miniconda** or **Anaconda**\n",
    "- **VS Code** (Integrated Development Environment or IDE)\n",
    "These installations will make it easier for us to work with Python efficiently.\n",
    "\n",
    " \n",
    "\n",
    "## 4.  Step 1: Install Miniconda or Anaconda\n",
    "### What are Anaconda and Miniconda?\n",
    "\n",
    "**Anaconda** is a full package that includes Python and over 1 GB of libraries and tools, including Jupyter Notebook and Spyder.\n",
    "**Miniconda** is a lightweight version of Anaconda, suitable for users who only need Python and essential tools.\n",
    "### Why Miniconda?\n",
    "If you prefer a smaller installation and only need the basics for Python programming, Miniconda is the better choice. It will use less space and be easier to set up.\n",
    "\n",
    "- 4.1 Installation Process\n",
    "    - **Search for Miniconda:** Open your web browser (preferably Google Chrome) and search for “Download Miniconda.”\n",
    "    - **Download:** You’ll be directed to the Miniconda download page. Select the version appropriate for your operating system (Windows, macOS, or Linux).\n",
    "    - **Start Installation:** Once the installer is downloaded, open it and follow the prompts:\n",
    "    Choose **Next** and **Agree** to the terms.\n",
    "    Choose the installation location (you can keep the default).\n",
    "    Select the option to **Add Miniconda to PATH** for easier access.\n",
    "\n",
    "5. Step 2: Install VS Code\n",
    "### What is VS Code?\n",
    "VS Code is a free, open-source code editor that makes it easy to write, edit, and run Python code.\n",
    "\n",
    "### Installation Steps:\n",
    "\n",
    "- **Download:** Go to the Visual Studio Code`(https://code.visualstudio.com/download)` website and download the installer for your operating system.\n",
    "- **Install:** Run the downloaded file and follow the prompts to complete the installation.\n",
    " \n",
    "\n",
    "## 6. Step 3: Verify Python Installation\n",
    "Once Miniconda is installed, it’s time to verify that Python is properly installed.\n",
    "\n",
    "- 6.1 Check Python Version\n",
    "    1. Open the **Anaconda Prompt**:\n",
    "      - Press the Windows key and type “Anaconda” in the search bar. Select Anaconda Prompt.\n",
    "       - In the Anaconda Prompt, type the following command:\n",
    "           ``` bash\n",
    "           `python --version`\n",
    "\n",
    "       - If Python is installed correctly, you should see a version number (e.g., Python 3.12).\n",
    "        Alternatively, you can use this command to check:\n",
    "        ``` bash\n",
    "           `python --version`\n",
    "\n",
    "    2. If you do not see a version number, this means the installation didn’t work, and you may need to reinstall Miniconda or Anaconda.\n",
    "\n",
    "## 7.  Step 4: Running Your First Python Program\n",
    "Now that you have everything installed, it's time to run your first Python program.\n",
    "\n",
    "- Open VS Code.\n",
    "- Create a New File: Click on **File > New File**.\n",
    "    **Write Your Program:** Type the following simple Python code:\n",
    "    python\n",
    "    ``` bash\n",
    "    print(\"Hello, World!\")\n",
    "    ```\n",
    " \n",
    "- **Run the Program:**\n",
    "    - Save the file with a .py extension (e.g., **first_program.py**).\n",
    "    - In VS Code, click on Terminal > New Terminal and type:\n",
    "    ``` bash\n",
    "    `python first_program.py`\n",
    "    ```\n",
    "You should see **\"Hello, World!\"** printed in the terminal.\n",
    "\n",
    "## 8. Summary of Key Points\n",
    "- Miniconda vs. Anaconda: Miniconda is a lightweight version, whereas Anaconda includes more tools and libraries.\n",
    "- VS Code is a code editor that makes it easy to write and run Python code.\n",
    "- Python Setup: After installing Miniconda and VS Code, always check your Python installation with python --version.\n",
    "- First Program: Running a simple Python program, such as printing \"Hello, World!\", is the first step in your journey."
   ]
  },
  {
   "cell_type": "markdown",
   "metadata": {},
   "source": []
  },
  {
   "cell_type": "code",
   "execution_count": 1,
   "metadata": {},
   "outputs": [
    {
     "name": "stdout",
     "output_type": "stream",
     "text": [
      "Hello, World!\n"
     ]
    }
   ],
   "source": [
    "print(\"Hello, World!\")"
   ]
  }
 ],
 "metadata": {
  "kernelspec": {
   "display_name": "env3_10",
   "language": "python",
   "name": "python3"
  },
  "language_info": {
   "codemirror_mode": {
    "name": "ipython",
    "version": 3
   },
   "file_extension": ".py",
   "mimetype": "text/x-python",
   "name": "python",
   "nbconvert_exporter": "python",
   "pygments_lexer": "ipython3",
   "version": "3.10.16"
  }
 },
 "nbformat": 4,
 "nbformat_minor": 2
}
