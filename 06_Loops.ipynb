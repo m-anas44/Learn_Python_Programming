{
 "cells": [
  {
   "cell_type": "markdown",
   "metadata": {},
   "source": [
    "## **Loops in Python**\n",
    "Loops are used to execute a block of code repeatedly."
   ]
  },
  {
   "cell_type": "markdown",
   "metadata": {},
   "source": [
    "### `for` Loop\n",
    "Used for iterating over a sequence (list, tuple, string, etc.)."
   ]
  },
  {
   "cell_type": "code",
   "execution_count": 1,
   "metadata": {},
   "outputs": [
    {
     "name": "stdout",
     "output_type": "stream",
     "text": [
      "1\n",
      "2\n",
      "3\n",
      "4\n",
      "5\n"
     ]
    }
   ],
   "source": [
    "numbers = [1, 2, 3, 4, 5]\n",
    "for num in numbers:\n",
    "    print(num)"
   ]
  },
  {
   "cell_type": "code",
   "execution_count": 4,
   "metadata": {},
   "outputs": [
    {
     "name": "stdout",
     "output_type": "stream",
     "text": [
      "1\n",
      "2\n",
      "3\n",
      "4\n",
      "5\n"
     ]
    }
   ],
   "source": [
    "for i in range(1, 6):  # Loops from 1 to 5\n",
    "    print(i)"
   ]
  },
  {
   "cell_type": "code",
   "execution_count": 5,
   "metadata": {},
   "outputs": [
    {
     "name": "stdout",
     "output_type": "stream",
     "text": [
      "P\n",
      "y\n",
      "t\n",
      "h\n",
      "o\n",
      "n\n"
     ]
    }
   ],
   "source": [
    "# Iterating over a string\n",
    "for char in \"Python\":\n",
    "    print(char)"
   ]
  },
  {
   "cell_type": "code",
   "execution_count": 6,
   "metadata": {},
   "outputs": [
    {
     "name": "stdout",
     "output_type": "stream",
     "text": [
      "index 0: apple\n",
      "index 1: banana\n",
      "index 2: peach\n"
     ]
    }
   ],
   "source": [
    "fruits = [\"apple\", \"banana\", \"peach\"]\n",
    "\n",
    "for index, fruit in enumerate(fruits):\n",
    "    print(f\"index {index}: {fruit}\")"
   ]
  },
  {
   "cell_type": "code",
   "execution_count": null,
   "metadata": {},
   "outputs": [
    {
     "name": "stdout",
     "output_type": "stream",
     "text": [
      "index 0: apple\n",
      "index 1: banana\n",
      "index 2: peach\n"
     ]
    }
   ],
   "source": [
    "# without using enumerate function\n",
    "index = 0\n",
    "\n",
    "for fruit in fruits:\n",
    "    print(f\"index {index}: {fruit}\")\n",
    "    index += 1"
   ]
  },
  {
   "cell_type": "code",
   "execution_count": null,
   "metadata": {},
   "outputs": [
    {
     "name": "stdout",
     "output_type": "stream",
     "text": [
      "name Ali\n",
      "age 25\n",
      "city Lahore\n"
     ]
    }
   ],
   "source": [
    "# iteration over dictionaries\n",
    "person = {\n",
    "    \"name\" : \"Ali\",\n",
    "    \"age\" : 25,\n",
    "    \"city\" : \"Lahore\"\n",
    "}\n",
    "\n",
    "for key in person:\n",
    "    print(key, person[key])"
   ]
  },
  {
   "cell_type": "code",
   "execution_count": 15,
   "metadata": {},
   "outputs": [
    {
     "name": "stdout",
     "output_type": "stream",
     "text": [
      "dict_items([('name', 'Ali'), ('age', 25), ('city', 'Lahore')])\n",
      "name Ali\n",
      "age 25\n",
      "city Lahore\n"
     ]
    }
   ],
   "source": [
    "print(person.items())\n",
    "for key, value in person.items():\n",
    "    print(key, value)"
   ]
  },
  {
   "cell_type": "code",
   "execution_count": null,
   "metadata": {},
   "outputs": [
    {
     "name": "stdout",
     "output_type": "stream",
     "text": [
      "0 Zohaib\n",
      "1 Umair\n",
      "2 Talha\n"
     ]
    }
   ],
   "source": [
    "# loop over tuple\n",
    "friends = (\"Zohaib\", \"Umair\", \"Talha\")\n",
    "for index, friend in enumerate(friends):\n",
    "    print(index, friend)"
   ]
  },
  {
   "cell_type": "code",
   "execution_count": null,
   "metadata": {},
   "outputs": [
    {
     "name": "stdout",
     "output_type": "stream",
     "text": [
      "0 index:  1\n",
      "1 index:  4\n",
      "2 index:  5\n",
      "3 index:  6\n",
      "4 index:  7\n",
      "5 index:  8\n"
     ]
    }
   ],
   "source": [
    "# loops over sets\n",
    "numSets = {1, 4, 6, 7 ,4 ,5, 6, 8}\n",
    "\n",
    "for index, num in enumerate(numSets):\n",
    "    print(index, \"index: \", num)"
   ]
  },
  {
   "cell_type": "markdown",
   "metadata": {},
   "source": [
    "### While Loop\n",
    "Executes a block of code as long as a condition is True"
   ]
  },
  {
   "cell_type": "code",
   "execution_count": 8,
   "metadata": {},
   "outputs": [
    {
     "name": "stdout",
     "output_type": "stream",
     "text": [
      "1\n",
      "2\n",
      "3\n",
      "4\n",
      "5\n"
     ]
    }
   ],
   "source": [
    "# Using while loop\n",
    "count = 1\n",
    "while count <= 5:\n",
    "    print(count)\n",
    "    count += 1  # Increment to avoid infinite loop"
   ]
  },
  {
   "cell_type": "markdown",
   "metadata": {},
   "source": [
    "### Control Statements"
   ]
  },
  {
   "cell_type": "code",
   "execution_count": 33,
   "metadata": {},
   "outputs": [
    {
     "name": "stdout",
     "output_type": "stream",
     "text": [
      "1\n",
      "2\n"
     ]
    }
   ],
   "source": [
    "# Using break in a for loop\n",
    "for num in range(1, 6):\n",
    "    if num == 3:\n",
    "        break  # Exit the loop when num is 3\n",
    "    print(num)\n",
    "else:\n",
    "    print(\"The loop ended normally\")  # This will not be printed because of not completion of loop\n"
   ]
  },
  {
   "cell_type": "code",
   "execution_count": null,
   "metadata": {},
   "outputs": [
    {
     "name": "stdout",
     "output_type": "stream",
     "text": [
      "1\n",
      "2\n",
      "4\n",
      "5\n",
      "Loop finished\n"
     ]
    }
   ],
   "source": [
    "# Using continue in a for loop\n",
    "for num in range(1, 6):\n",
    "    if num == 3:\n",
    "        continue  # Skip number 3\n",
    "    print(num)\n",
    "else: \n",
    "    print(\"Loop finished\")  # This will be printed after the completion of loop\n"
   ]
  },
  {
   "cell_type": "markdown",
   "metadata": {},
   "source": [
    "## Scenarios based question for self practice"
   ]
  },
  {
   "cell_type": "markdown",
   "metadata": {},
   "source": [
    "### 1️⃣ **Print Numbers:** Write a loop to print numbers from 1 to 20."
   ]
  },
  {
   "cell_type": "code",
   "execution_count": 36,
   "metadata": {},
   "outputs": [
    {
     "name": "stdout",
     "output_type": "stream",
     "text": [
      "1 2 3 4 5 6 7 8 9 10 11 12 13 14 15 16 17 18 19 20 "
     ]
    }
   ],
   "source": [
    "for i in range(1, 21):\n",
    "    print(i, end=\" \")"
   ]
  },
  {
   "cell_type": "markdown",
   "metadata": {},
   "source": [
    "### 2️⃣ **Even & Odd Numbers:** Print all even numbers from 1 to 50. Then, do the same for odd numbers."
   ]
  },
  {
   "cell_type": "code",
   "execution_count": 41,
   "metadata": {},
   "outputs": [
    {
     "name": "stdout",
     "output_type": "stream",
     "text": [
      "1 3 5 7 9 11 13 15 17 19 21 23 25 27 29 31 33 35 37 39 41 43 45 47 49 \n",
      "2 4 6 8 10 12 14 16 18 20 22 24 26 28 30 32 34 36 38 40 42 44 46 48 50 "
     ]
    }
   ],
   "source": [
    "# for odd numbers\n",
    "\n",
    "for i in range(1, 51):\n",
    "    if i%2 == 0:\n",
    "        continue\n",
    "    print(i, end=\" \")\n",
    "\n",
    "print()\n",
    "\n",
    "# for even numbers\n",
    "for i in range(1, 51):\n",
    "    if i%2 != 0:\n",
    "        continue\n",
    "    print(i, end=\" \")\n"
   ]
  },
  {
   "cell_type": "markdown",
   "metadata": {},
   "source": [
    "### **3️⃣ Sum of Numbers:** Find the sum of first 100 natural numbers."
   ]
  },
  {
   "cell_type": "code",
   "execution_count": 46,
   "metadata": {},
   "outputs": [
    {
     "name": "stdout",
     "output_type": "stream",
     "text": [
      "Total:  5050\n"
     ]
    }
   ],
   "source": [
    "total = 0\n",
    "\n",
    "for i in range(1, 101):\n",
    "    total += i\n",
    "\n",
    "\n",
    "print(\"Total: \", total)"
   ]
  },
  {
   "cell_type": "markdown",
   "metadata": {},
   "source": [
    "### 4️⃣ **Reverse a String:** Take a string as input and print its reverse using a loop."
   ]
  },
  {
   "cell_type": "code",
   "execution_count": 3,
   "metadata": {},
   "outputs": [
    {
     "name": "stdout",
     "output_type": "stream",
     "text": [
      "Reversed Text:  sana\n"
     ]
    }
   ],
   "source": [
    "userInput = input(\"Enter any string value: \")\n",
    "reverse_text = \"\"\n",
    "for char in userInput:\n",
    "    reverse_text = char.lower() + reverse_text\n",
    "\n",
    "print(\"Reversed Text: \", reverse_text)"
   ]
  },
  {
   "cell_type": "markdown",
   "metadata": {},
   "source": [
    "### 5️⃣ **Factorial Calculation:** Write a program to calculate the factorial of a number."
   ]
  },
  {
   "cell_type": "code",
   "execution_count": 10,
   "metadata": {},
   "outputs": [
    {
     "name": "stdout",
     "output_type": "stream",
     "text": [
      "Factorial:  120\n"
     ]
    }
   ],
   "source": [
    "fnum = int(input(\"Enter any number to find its factorial: \"))\n",
    "fact = 1\n",
    "\n",
    "while fnum >= 1:\n",
    "    fact *= fnum\n",
    "    fnum-=1\n",
    "\n",
    "print(\"Factorial: \", fact)"
   ]
  },
  {
   "cell_type": "markdown",
   "metadata": {},
   "source": [
    "### 6️⃣ **Multiplication Table:** Print the multiplication table of any number (e.g., 7)."
   ]
  },
  {
   "cell_type": "code",
   "execution_count": 11,
   "metadata": {},
   "outputs": [
    {
     "name": "stdout",
     "output_type": "stream",
     "text": [
      "8 X 1 = 8\n",
      "8 X 2 = 16\n",
      "8 X 3 = 24\n",
      "8 X 4 = 32\n",
      "8 X 5 = 40\n",
      "8 X 6 = 48\n",
      "8 X 7 = 56\n",
      "8 X 8 = 64\n",
      "8 X 9 = 72\n",
      "8 X 10 = 80\n"
     ]
    }
   ],
   "source": [
    "table_num = int(input(\"Enter any number to get its multiplication table: \"))\n",
    "\n",
    "for i in range(1, 11):\n",
    "    print(f\"{table_num} X {i} = {table_num*i}\")"
   ]
  },
  {
   "cell_type": "markdown",
   "metadata": {},
   "source": [
    "### 7️⃣ **Count Vowels:** Take a string input and count the number of vowels (a, e, i, o, u)."
   ]
  },
  {
   "cell_type": "code",
   "execution_count": null,
   "metadata": {},
   "outputs": [
    {
     "name": "stdout",
     "output_type": "stream",
     "text": [
      "Your Word:  Zohaib Sadiq\n",
      "Count of Vowel is:  5\n"
     ]
    }
   ],
   "source": [
    "word = input(\"Enter any string value to find count of vowel included in: \")\n",
    "vowel = \"aeiouAEIOU\"\n",
    "count = 0\n",
    "for char in word:\n",
    "    if char in vowel:\n",
    "        count += 1\n",
    "\n",
    "print(\"Your Word: \", word)\n",
    "print(\"Count of Vowel is: \", count)"
   ]
  },
  {
   "cell_type": "markdown",
   "metadata": {},
   "source": [
    "### 8️⃣ **Find Prime Numbers:** Print all prime numbers between 1 and 100."
   ]
  },
  {
   "cell_type": "code",
   "execution_count": 24,
   "metadata": {},
   "outputs": [
    {
     "name": "stdout",
     "output_type": "stream",
     "text": [
      "2 3 5 7 11 13 17 19 23 29 31 37 41 43 47 53 59 61 67 71 73 79 83 89 97 "
     ]
    }
   ],
   "source": [
    "for i in range(2, 101):\n",
    "    is_prime = True\n",
    "    for j in range(2, i):\n",
    "        if i % j == 0:\n",
    "            is_prime = False\n",
    "    \n",
    "    if is_prime:\n",
    "        print(i, end=\" \")"
   ]
  },
  {
   "cell_type": "markdown",
   "metadata": {},
   "source": [
    "### 9️⃣ **Guessing Game:** Generate a random number (1-10) and keep asking the user to guess until they get it right."
   ]
  },
  {
   "cell_type": "code",
   "execution_count": 27,
   "metadata": {},
   "outputs": [
    {
     "name": "stdout",
     "output_type": "stream",
     "text": [
      "Try again!\n",
      "Try again!\n",
      "Try again!\n",
      "Try again!\n",
      "Try again!\n",
      "You guessed it right!\n",
      "Your number: 1 & Target Number: 1\n"
     ]
    }
   ],
   "source": [
    "import random\n",
    "\n",
    "random_number = random.randint(1, 10)\n",
    "\n",
    "while True:\n",
    "    guess_number = int(input(\"Guess Number: \"))\n",
    "    if guess_number == random_number:\n",
    "        print(\"You guessed it right!\")\n",
    "        print(f\"Your number: {guess_number} & Target Number: {random_number}\")\n",
    "        break\n",
    "    else:\n",
    "        print(\"Try again!\")"
   ]
  },
  {
   "cell_type": "markdown",
   "metadata": {},
   "source": [
    "### **🔟 FizzBuzz:** Print numbers from 1 to 50.\n",
    "- If a number is divisible by 3, print \"Fizz\"\n",
    "- If divisible by 5, print \"Buzz\"\n",
    "- If divisible by both 3 and 5, print \"FizzBuzz\""
   ]
  },
  {
   "cell_type": "code",
   "execution_count": null,
   "metadata": {},
   "outputs": [
    {
     "name": "stdout",
     "output_type": "stream",
     "text": [
      "Buzz\n"
     ]
    }
   ],
   "source": [
    "your_number = int(input(\"Enter number(1 - 50): \"))\n",
    "\n",
    "for i in range(1, 51):\n",
    "    if your_number % 3 == 0:\n",
    "        print(\"Fizz\")\n",
    "        break\n",
    "    elif your_number % 5 == 0:\n",
    "        print(\"Buzz\")\n",
    "        break\n",
    "    elif your_number % 3 == 0 and your_number % 5 == 0:\n",
    "        print(\"FizzBuzz\")\n",
    "        break"
   ]
  },
  {
   "cell_type": "markdown",
   "metadata": {},
   "source": []
  }
 ],
 "metadata": {
  "kernelspec": {
   "display_name": "env3_10",
   "language": "python",
   "name": "python3"
  },
  "language_info": {
   "codemirror_mode": {
    "name": "ipython",
    "version": 3
   },
   "file_extension": ".py",
   "mimetype": "text/x-python",
   "name": "python",
   "nbconvert_exporter": "python",
   "pygments_lexer": "ipython3",
   "version": "3.10.16"
  }
 },
 "nbformat": 4,
 "nbformat_minor": 2
}
