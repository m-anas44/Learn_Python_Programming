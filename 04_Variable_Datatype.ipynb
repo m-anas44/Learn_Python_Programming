{
 "cells": [
  {
   "cell_type": "markdown",
   "metadata": {},
   "source": [
    "### Variables\n",
    "- Variable act as a storage unit to hold/store data in python.\n",
    "- Variable are dynamic in nature in python because they can hold different type of data.\n",
    "- Variable are case sensitive in python (like `Name` not eqauls to `name` they'll be totally different variables).\n",
    "\n",
    "#### Cases to name a variable\n",
    "1. snake case (ex: user_name)\n",
    "2. camel case (ex: userName)\n",
    "3. pascal case (ex: UserName)\n",
    "\n",
    "#### Rules to name a variable\n",
    "- Variable name should start with a letter or underscore.\n",
    "- Consist of just letters, numbers and underscores.\n",
    "- No reserved keywords. Avoid using python keywords like `if`, `else`, `def` etc.\n",
    "- Readable and descriptive (`total_price` `ok`) (`tp` `not okay`)"
   ]
  },
  {
   "cell_type": "markdown",
   "metadata": {},
   "source": [
    "### **1️⃣ Basic Data Types**\n",
    "- **Integer (`int`)** → Whole numbers  \n",
    "  - Examples: `1, -3, 299`\n",
    "- **Float (`float`)** → Decimal numbers  \n",
    "  - Examples: `3.14, -0.5, 0.0`\n",
    "- **Complex (`complex`)** → Numbers with a real and imaginary part  \n",
    "  - Examples: `2 + 3j, -1 - 5j`\n",
    "- **Boolean (`bool`)** → Represents `True` or `False`  \n",
    "  - Examples: `True, False`\n",
    "- **String (`str`)** → Sequence of characters  \n",
    "  - Examples: `\"Hello\"`, `'Python'`\n",
    "\n",
    "### **2️⃣ Collection Data Types**\n",
    "- **List (`list`)** → Ordered, mutable, allows duplicates  \n",
    "  - Examples: `[1, 2, 3]`, `[\"apple\", \"banana\"]`\n",
    "- **Tuple (`tuple`)** → Ordered, immutable, allows duplicates  \n",
    "  - Examples: `(1, 2, 3)`, `(\"a\", \"b\", \"c\")`\n",
    "- **Set (`set`)** → Unordered, unique values  \n",
    "  - Examples: `{1, 2, 3}`, `{\"apple\", \"banana\"}`\n",
    "- **Frozen Set (`frozenset`)** → Immutable version of a set  \n",
    "  - Examples: `frozenset([1, 2, 3])`\n",
    "- **Dictionary (`dict`)** → Key-value pairs, unordered  \n",
    "  - Examples: `{\"name\": \"Alice\", \"age\": 25}`\n",
    "\n",
    "### **3️⃣ Special Data Types**\n",
    "- **None Type (`NoneType`)** → Represents the absence of a value  \n",
    "  - Example: `None`\n",
    "- **Bytes (`bytes`)** → Immutable sequence of bytes  \n",
    "  - Example: `b\"hello\"`\n",
    "- **Bytearray (`bytearray`)** → Mutable version of bytes  \n",
    "  - Example: `bytearray(5)`\n",
    "- **Memoryview (`memoryview`)** → Provides a memory-efficient view of a bytes-like object  \n",
    "  - Example: `memoryview(b\"hello\")`"
   ]
  },
  {
   "cell_type": "markdown",
   "metadata": {},
   "source": [
    "### **1. Integer (`int`)**\n",
    "- Represents whole numbers, both positive and negative.\n",
    "- Does not include fractions or decimals.\n",
    "- Commonly used for counting and indexing."
   ]
  },
  {
   "cell_type": "code",
   "execution_count": 1,
   "metadata": {},
   "outputs": [
    {
     "name": "stdout",
     "output_type": "stream",
     "text": [
      "num 0 <class 'int'>\n",
      "num1 42 <class 'int'>\n",
      "num2 -2 <class 'int'>\n"
     ]
    }
   ],
   "source": [
    "num = 0\n",
    "num1 = 42\n",
    "num2 = -2\n",
    "\n",
    "print(\"num\", num, type(num))\n",
    "print(\"num1\", num1, type(num1))\n",
    "print(\"num2\", num2, type(num2))"
   ]
  },
  {
   "cell_type": "markdown",
   "metadata": {},
   "source": [
    "### **2. Float (`float`)**\n",
    "- Represents decimal or floating-point numbers.\n",
    "- Can store positive and negative decimal values.\n",
    "- Used in financial calculations, scientific computing, and precise measurements."
   ]
  },
  {
   "cell_type": "code",
   "execution_count": 2,
   "metadata": {},
   "outputs": [
    {
     "name": "stdout",
     "output_type": "stream",
     "text": [
      "pi 3.14159 <class 'float'>\n",
      "small_float -0.002 <class 'float'>\n",
      "exp_float 150.0 <class 'float'>\n"
     ]
    }
   ],
   "source": [
    "pi = 3.14159\n",
    "small_float = -0.002\n",
    "exp_float = 1.5e2\n",
    "\n",
    "print(\"pi\", pi, type(pi))\n",
    "print(\"small_float\", small_float, type(small_float))\n",
    "print(\"exp_float\", exp_float, type(exp_float))"
   ]
  },
  {
   "cell_type": "markdown",
   "metadata": {},
   "source": [
    "### **3. String  (`str`)**\n",
    "- Represents a sequence of characters.\n",
    "- Can be enclosed in single, double, or triple quotes.\n",
    "- Used for storing and manipulating text."
   ]
  },
  {
   "cell_type": "code",
   "execution_count": 5,
   "metadata": {},
   "outputs": [
    {
     "name": "stdout",
     "output_type": "stream",
     "text": [
      "Hello Python <class 'str'>\n",
      "Using single quote <class 'str'>\n",
      "Hi I am \n",
      "a multiline string <class 'str'>\n"
     ]
    }
   ],
   "source": [
    "greeting = \"Hello Python\"\n",
    "qoute = 'Using single quote'\n",
    "multiline_string = \"\"\"Hi I am \n",
    "a multiline string\"\"\"\n",
    "\n",
    "print(greeting, type(greeting))\n",
    "print(qoute, type(qoute))\n",
    "print(multiline_string, type(multiline_string))"
   ]
  },
  {
   "cell_type": "code",
   "execution_count": 7,
   "metadata": {},
   "outputs": [
    {
     "name": "stdout",
     "output_type": "stream",
     "text": [
      "Full Name: John Doe\n",
      "Ha 3 times: HaHaHa\n",
      "first char: H\n",
      "substring: Hell\n"
     ]
    }
   ],
   "source": [
    "# Concatenation\n",
    "first_name = \"John\"\n",
    "last_name = \"Doe\"\n",
    "full_name = first_name + \" \" + last_name\n",
    "\n",
    "# Repeatetion\n",
    "ha_3_times = \"Ha\" * 3\n",
    "\n",
    "# Indexing and Slicing\n",
    "first_char = greeting[0]\n",
    "sub_string = greeting[0:4]\n",
    "\n",
    "print(\"Full Name:\", full_name)\n",
    "print(\"Ha 3 times:\", ha_3_times)\n",
    "print(\"first char:\", first_char)\n",
    "print(\"substring:\", sub_string)"
   ]
  },
  {
   "cell_type": "code",
   "execution_count": null,
   "metadata": {},
   "outputs": [
    {
     "name": "stdout",
     "output_type": "stream",
     "text": [
      "My age is 20\n"
     ]
    }
   ],
   "source": [
    "# f string: use to display variable value in string\n",
    "age = 20\n",
    "print(f\"My age is {age}\")"
   ]
  },
  {
   "cell_type": "markdown",
   "metadata": {},
   "source": [
    "### **4. Boolean  (`bool`)**\n",
    "- Represents logical values: `True` or `False`.\n",
    "- Used in conditional statements and logical operations."
   ]
  },
  {
   "cell_type": "code",
   "execution_count": 10,
   "metadata": {},
   "outputs": [
    {
     "name": "stdout",
     "output_type": "stream",
     "text": [
      "is python easy:  True <class 'bool'>\n",
      "likes coffee:  False <class 'bool'>\n"
     ]
    }
   ],
   "source": [
    "is_python_easy = True\n",
    "likes_coffee = False\n",
    "\n",
    "print(\"is python easy: \", is_python_easy, type(is_python_easy))\n",
    "print(\"likes coffee: \", likes_coffee, type(likes_coffee))"
   ]
  },
  {
   "cell_type": "code",
   "execution_count": 11,
   "metadata": {},
   "outputs": [
    {
     "name": "stdout",
     "output_type": "stream",
     "text": [
      "Yes python is easy\n"
     ]
    }
   ],
   "source": [
    "if is_python_easy:\n",
    "    print(\"Yes python is easy\")"
   ]
  },
  {
   "cell_type": "markdown",
   "metadata": {},
   "source": [
    "### **5. None Type (`NoneType`)**\n",
    "- Represents the absence of a value or null.\n",
    "- Used to initialize variables or as a default return value for functions that do not return anything."
   ]
  },
  {
   "cell_type": "code",
   "execution_count": 13,
   "metadata": {},
   "outputs": [
    {
     "name": "stdout",
     "output_type": "stream",
     "text": [
      "nothing here:  None <class 'NoneType'>\n"
     ]
    }
   ],
   "source": [
    "nothing_here = None\n",
    "print(\"nothing here: \", nothing_here, type(nothing_here))"
   ]
  },
  {
   "cell_type": "code",
   "execution_count": 14,
   "metadata": {},
   "outputs": [
    {
     "name": "stdout",
     "output_type": "stream",
     "text": [
      "The variable has no value\n"
     ]
    }
   ],
   "source": [
    "if nothing_here is None:\n",
    "    print(\"The variable has no value\")"
   ]
  },
  {
   "cell_type": "markdown",
   "metadata": {},
   "source": [
    "### **6. List (`list`)**\n",
    "- Ordered and mutable (can be modified).\n",
    "- Allows duplicate values.\n",
    "- Can store different data types in a single list."
   ]
  },
  {
   "cell_type": "code",
   "execution_count": 21,
   "metadata": {},
   "outputs": [
    {
     "name": "stdout",
     "output_type": "stream",
     "text": [
      "Empty:  []\n",
      "Number list [10, 20, 30, 40]\n",
      "Mixed list:  ['hello', 3.14, True]\n",
      "first number:  10\n",
      "Last number 40\n"
     ]
    }
   ],
   "source": [
    "empty_list = []\n",
    "number_list = [10, 20, 30, 40]\n",
    "mixed_list = [\"hello\", 3.14, True]\n",
    "\n",
    "print(\"Empty: \",empty_list)\n",
    "print(\"Number list\", number_list)\n",
    "print(\"Mixed list: \", mixed_list)\n",
    "\n",
    "first_number = number_list[0]\n",
    "last_number = number_list[-1]\n",
    "print(\"first number: \", first_number)\n",
    "print(\"Last number\", last_number)"
   ]
  },
  {
   "cell_type": "code",
   "execution_count": null,
   "metadata": {},
   "outputs": [
    {
     "name": "stdout",
     "output_type": "stream",
     "text": [
      "[10, 20, 30, 40, 50]\n",
      "[10, 20, 35, 30, 40, 50]\n",
      "Modified number list:  [10, 25, 30, 40]\n",
      "removed item 50\n"
     ]
    }
   ],
   "source": [
    "number_list.append(50)\n",
    "print(number_list)\n",
    "number_list.insert(2, 35)\n",
    "print(number_list)\n",
    "removed_item = number_list.pop()\n",
    "number_list.remove(20)\n",
    "\n",
    "number_list[1] = 25\n",
    "\n",
    "print(\"Modified number list: \", number_list)\n",
    "print(\"removed item\", removed_item)"
   ]
  },
  {
   "cell_type": "markdown",
   "metadata": {},
   "source": [
    "### **7. Tuple (`tuple`)**\n",
    "- Ordered but immutable (cannot be modified after creation).\n",
    "- Faster than lists.\n",
    "- Allows duplicate values."
   ]
  },
  {
   "cell_type": "code",
   "execution_count": 23,
   "metadata": {},
   "outputs": [
    {
     "name": "stdout",
     "output_type": "stream",
     "text": [
      "empty tuple:  ()\n",
      "single element tuple:  (42,)\n",
      "numbers tuple:  (10, 20, 30)\n",
      "mixed tuple:  ('Alice', 25, True)\n",
      "first item:  10\n",
      "sliced sub tuple:  (20, 30)\n"
     ]
    }
   ],
   "source": [
    "empty_tuple = ()\n",
    "\n",
    "single_element_tuple = (42,)\n",
    "numbers_tuple = (10, 20, 30)\n",
    "mixed_tuple = (\"Alice\", 25, True)\n",
    "\n",
    "print(\"empty tuple: \", empty_tuple)\n",
    "print(\"single element tuple: \", single_element_tuple)\n",
    "print(\"numbers tuple: \", numbers_tuple)\n",
    "print(\"mixed tuple: \", mixed_tuple)\n",
    "\n",
    "first_item = numbers_tuple[0]\n",
    "print(\"first item: \", first_item)\n",
    "\n",
    "sub_tuple = numbers_tuple[1:]\n",
    "print(\"sliced sub tuple: \", sub_tuple)"
   ]
  },
  {
   "cell_type": "code",
   "execution_count": 24,
   "metadata": {},
   "outputs": [
    {
     "name": "stdout",
     "output_type": "stream",
     "text": [
      "error:  'tuple' object does not support item assignment\n"
     ]
    }
   ],
   "source": [
    "try:\n",
    "    numbers_tuple[1] = 99\n",
    "except TypeError as e:\n",
    "    print(\"error: \", e)"
   ]
  },
  {
   "cell_type": "code",
   "execution_count": 26,
   "metadata": {},
   "outputs": [
    {
     "name": "stdout",
     "output_type": "stream",
     "text": [
      "name:  Bob\n",
      "age:  30\n",
      "job:  Engineer\n"
     ]
    }
   ],
   "source": [
    "person_tuple = (\"Bob\", 30, \"Engineer\")\n",
    "name, age, job = person_tuple\n",
    "\n",
    "print(\"name: \", name)\n",
    "print(\"age: \", age)\n",
    "print(\"job: \", job)"
   ]
  },
  {
   "cell_type": "markdown",
   "metadata": {},
   "source": [
    "### **8. Dictionary (`dict`)**\n",
    "- Stores key-value pairs.\n",
    "- Keys must be unique and immutable (like strings, numbers, or tuples).\n",
    "- Values can be of any data type."
   ]
  },
  {
   "cell_type": "code",
   "execution_count": 31,
   "metadata": {},
   "outputs": [
    {
     "name": "stdout",
     "output_type": "stream",
     "text": [
      "empty_dict {}\n",
      "person_dict {'name': 'Alice', 'age': 30}\n",
      "another_dict {'city': 'London', 'country': 'US'}\n",
      "Name:  Alice\n",
      "Age:  30\n"
     ]
    }
   ],
   "source": [
    "empty_dict = {}\n",
    "person_dict = {\"name\": \"Alice\", \"age\": 30}\n",
    "another_dict = dict(city = \"London\", country = \"US\")\n",
    "\n",
    "print(\"empty_dict\" ,empty_dict)\n",
    "print(\"person_dict\", person_dict)\n",
    "print(\"another_dict\", another_dict)\n",
    "\n",
    "print(\"Name: \", person_dict[\"name\"])\n",
    "print(\"Age: \", person_dict.get(\"age\")) # .get is safer, returns None if key is not found"
   ]
  },
  {
   "cell_type": "code",
   "execution_count": 32,
   "metadata": {},
   "outputs": [
    {
     "name": "stdout",
     "output_type": "stream",
     "text": [
      "Removed Age 30\n",
      "Name is in the dictionary\n",
      "{'name': 'Alice', 'city': 'New York'}\n"
     ]
    }
   ],
   "source": [
    "person_dict[\"city\"] = \"New York\"\n",
    "\n",
    "removed_value = person_dict.pop(\"age\")\n",
    "print(\"Removed Age\", removed_value)\n",
    "\n",
    "if \"name\" in person_dict:\n",
    "    print(\"Name is in the dictionary\")\n",
    "\n",
    "print(person_dict)"
   ]
  },
  {
   "cell_type": "code",
   "execution_count": 33,
   "metadata": {},
   "outputs": [
    {
     "name": "stdout",
     "output_type": "stream",
     "text": [
      "Keys:  dict_keys(['name', 'city'])\n",
      "Values:  dict_values(['Alice', 'New York'])\n",
      "Items:  dict_items([('name', 'Alice'), ('city', 'New York')])\n"
     ]
    }
   ],
   "source": [
    "print(\"Keys: \", person_dict.keys())\n",
    "print(\"Values: \", person_dict.values())\n",
    "print(\"Items: \", person_dict.items())"
   ]
  },
  {
   "cell_type": "markdown",
   "metadata": {},
   "source": [
    "### **9. Set (`set`)**\n",
    "- Unordered and does not allow duplicate values.\n",
    "- Useful for mathematical operations like union and intersection.\n",
    "- Elements cannot be accessed via an index."
   ]
  },
  {
   "cell_type": "code",
   "execution_count": 36,
   "metadata": {},
   "outputs": [
    {
     "name": "stdout",
     "output_type": "stream",
     "text": [
      "Empty set:  set()\n",
      "number set:  {1, 2, 3}\n",
      "mixed set:  {42, (1, 2), 'Apple'}\n"
     ]
    }
   ],
   "source": [
    "empty_set = set()\n",
    "number_set = {1, 2, 3, 2}\n",
    "mixed_set = {\"Apple\", 42, (1, 2)}\n",
    "\n",
    "print(\"Empty set: \", empty_set)\n",
    "print(\"number set: \", number_set)\n",
    "print(\"mixed set: \", mixed_set)"
   ]
  },
  {
   "cell_type": "code",
   "execution_count": 37,
   "metadata": {},
   "outputs": [
    {
     "name": "stdout",
     "output_type": "stream",
     "text": [
      "Updated set:  {1, 3, 4}\n"
     ]
    }
   ],
   "source": [
    "number_set.add(4) # add 4 to set\n",
    "number_set.discard(2) # remove 2 if it exist, no error if it doesn't exist\n",
    "# number_set.remove(2) # remove 2 but raise a KeyError error if it doesn't exist\n",
    "\n",
    "print(\"Updated set: \", number_set)"
   ]
  },
  {
   "cell_type": "code",
   "execution_count": 38,
   "metadata": {},
   "outputs": [
    {
     "name": "stdout",
     "output_type": "stream",
     "text": [
      "Union:  {1, 2, 3, 4, 5}\n",
      "Intersection:  {3}\n",
      "Difference:  {1, 2}\n",
      "Symetric Difference:  {1, 2, 4, 5}\n"
     ]
    }
   ],
   "source": [
    "set_a = {1, 2, 3}\n",
    "set_b = {3, 4, 5}\n",
    "\n",
    "print(\"Union: \", set_a.union(set_b))\n",
    "\n",
    "print(\"Intersection: \", set_a.intersection(set_b))\n",
    "\n",
    "print(\"Difference: \", set_a.difference(set_b))\n",
    "\n",
    "print(\"Symetric Difference: \", set_a.symmetric_difference(set_b))"
   ]
  }
 ],
 "metadata": {
  "kernelspec": {
   "display_name": "env3_10",
   "language": "python",
   "name": "python3"
  },
  "language_info": {
   "codemirror_mode": {
    "name": "ipython",
    "version": 3
   },
   "file_extension": ".py",
   "mimetype": "text/x-python",
   "name": "python",
   "nbconvert_exporter": "python",
   "pygments_lexer": "ipython3",
   "version": "3.10.16"
  }
 },
 "nbformat": 4,
 "nbformat_minor": 2
}
