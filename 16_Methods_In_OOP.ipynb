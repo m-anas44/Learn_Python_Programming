{
 "cells": [
  {
   "cell_type": "markdown",
   "id": "f0d12910",
   "metadata": {},
   "source": [
    "### **Introduction**\n",
    "This lecture focuses on methods in Object-Oriented Programming (OOP) using Python. It builds on the concepts of classes and instances, explaining how methods allow interaction with and modification of objects created from blueprints (classes). The session covers the three primary types of methods — **instance methods**, **class methods**, and **static methods** — with practical examples and explanations.\n",
    "\n",
    "#### **1. Overview of Classes and Methods**\n",
    "- A class is a blueprint; instances (objects) are created based on this blueprint.\n",
    "- Example: If you design a blueprint for a house, you can build many houses (instances) from it.\n",
    "- Different instances may have different attributes (e.g., color).\n",
    "- To modify or interact with these attributes, methods are used inside the class.\n",
    "#### **2. Instance Methods**\n",
    "- Instance methods operate on individual instances of a class.\n",
    "- Defined with `def` inside a class, their first parameter is always `self`, referring to the instance.\n",
    "\n",
    "**Instance Methods = Methods Bound to an Instance**\n",
    "\n",
    "Instance methods are functions defined inside a class that operate on an instance of the class. They take `self` as their first parameter, which refers to the specific instance calling the method. These methods can access and modify the attributes of the instance and call other instance methods.\n",
    "\n",
    "**Example Given:**"
   ]
  },
  {
   "cell_type": "code",
   "execution_count": 3,
   "id": "e6c22e75",
   "metadata": {},
   "outputs": [
    {
     "name": "stdout",
     "output_type": "stream",
     "text": [
      "This house is painted red\n"
     ]
    }
   ],
   "source": [
    "class House:\n",
    "    # Constructor to initialize the house with a specific color\n",
    "    def __init__(self, color):\n",
    "        self.color = color  # Assign the color to the house instance\n",
    "\n",
    "    # Instance method to display the color of the house\n",
    "    def show_color(self):\n",
    "        print(f\"This house is painted {self.color}\")  # Access and print the house's color\n",
    "\n",
    "# Create an instance of the House class with the color \"red\"\n",
    "my_house = House(\"red\")\n",
    "\n",
    "# Call the instance method to show the color of the house\n",
    "my_house.show_color()"
   ]
  },
  {
   "cell_type": "markdown",
   "id": "477fe92b",
   "metadata": {},
   "source": [
    "#### **3. Class Methods**\n",
    "- Class methods are linked to the class itself, not individual instances.\n",
    "- Decorated with @classmethod.\n",
    "- Their first parameter is cls, which refers to the class.\n",
    "- They interact with or manipulate class-level attributes.\n",
    "- **Example:**\n",
    "    - Define the class method with decorator @classmethod.\n",
    "    - Call using ClassName.methodName() passing relevant parameters.\n",
    "- **Example from notebook:**\n",
    "    - A method calculates construction year or age using class attributes.\n",
    "- Instances can be created using class methods as alternate constructors.\n",
    "- **Example of calling:**\n",
    "\n",
    "    House.calculate_age(2025)\n",
    "- **You access attributes of the instance using the object:**\n",
    "\n",
    "    myHouse.age"
   ]
  },
  {
   "cell_type": "code",
   "execution_count": 4,
   "id": "f495510c",
   "metadata": {},
   "outputs": [
    {
     "name": "stdout",
     "output_type": "stream",
     "text": [
      "24\n"
     ]
    }
   ],
   "source": [
    "class House:\n",
    "    def __init__(self, color, age):\n",
    "        self.color = color      # Instance attribute: specific color of this house\n",
    "        self.age = age          # Instance attribute: how old the house is\n",
    "\n",
    "    @classmethod\n",
    "    def from_construction_year(cls, color, construction_year):\n",
    "        # Class method to create a House object by calculating age from construction year\n",
    "        return cls(color, 2024 - construction_year)\n",
    "\n",
    "# Create a new house instance using the class method as a factory\n",
    "my_house = House.from_construction_year(\"white\", 2000)\n",
    "\n",
    "# Print the age of the house instance\n",
    "print(my_house.age)"
   ]
  },
  {
   "cell_type": "markdown",
   "id": "067f7ffd",
   "metadata": {},
   "source": [
    "#### **4. Static Methods**\n",
    "- A static method is a method that belongs to a class but does not access or modify the class itself or any instance of the class. Unlike instance methods or class methods, static methods do not take `self` (the instance) or `cls` (the class) as their first parameter.\n",
    "\n",
    "- Static methods behave like regular functions, but they are logically grouped inside a class because they perform operations relevant to the class’s purpose.\n",
    "\n",
    "- They are typically used for utility tasks such as validations, calculations, or helper functions that don’t rely on the state of the class or its instances.\n",
    "\n",
    "- Static methods are defined using the `@staticmethod` decorator."
   ]
  },
  {
   "cell_type": "code",
   "execution_count": 5,
   "id": "a383a808",
   "metadata": {},
   "outputs": [
    {
     "name": "stdout",
     "output_type": "stream",
     "text": [
      "True\n",
      "False\n"
     ]
    }
   ],
   "source": [
    "class House:\n",
    "    def __init__(self, color, area):\n",
    "        self.color = color\n",
    "        self.area = area  # Area in square meters\n",
    "\n",
    "    @staticmethod\n",
    "    def is_valid_area(area):\n",
    "        # Static method to validate if the area value is reasonable (positive)\n",
    "        return area > 0\n",
    "\n",
    "# Using the static method to validate area before creating a House instance\n",
    "print(House.is_valid_area(120))   # Expected output: True\n",
    "print(House.is_valid_area(-50))   # Expected output: False"
   ]
  },
  {
   "cell_type": "markdown",
   "id": "57dbd636",
   "metadata": {},
   "source": [
    "- Static methods are independent utility functions inside a class.\n",
    "- Decorated with `@staticmethod`.\n",
    "- They do not take `self` or `cls` as parameters.\n",
    "- Used as helpers or validators related to the class but not dependent on class or instance data.\n",
    "- **Example:**\n",
    "    - A method isValidArea validates if a given area is positive or not.\n",
    "    - Returns True if valid, False otherwise.\n",
    "- They contribute as building blocks to larger class functionalities.\n",
    "\n",
    "#### **5. Difference Between Functions and Methods**\n",
    "- Functions are defined outside classes using def.\n",
    "- Methods are functions defined inside classes and categorized as instance, class, or static methods depending on their first parameter and usage.\n",
    "- When a function is placed inside a class, it becomes a method.\n",
    "\n",
    "### **Story-Driven Example**"
   ]
  },
  {
   "cell_type": "code",
   "execution_count": 6,
   "id": "08b73b43",
   "metadata": {},
   "outputs": [
    {
     "name": "stdout",
     "output_type": "stream",
     "text": [
      "78.53975\n",
      "5.0\n",
      "False\n"
     ]
    }
   ],
   "source": [
    "class MathTool:\n",
    "    pi = 3.14159\n",
    "    def __init__(self, radius):\n",
    "        self.radius = radius\n",
    "    # Instance method to calculate the area of a circle\n",
    "    def area(self):\n",
    "        return MathTool.pi * self.radius * self.radius\n",
    "    # Class method to create a MathTool object from diameter\n",
    "    @classmethod\n",
    "    def from_diameter(cls, diameter):\n",
    "        return cls(diameter / 2)\n",
    "    # Static method to validate if a radius is positive\n",
    "    @staticmethod\n",
    "    def is_valid_radius(radius):\n",
    "        return radius > 0\n",
    "# Example usage:\n",
    "tool = MathTool(5)\n",
    "print(tool.area())  # Output: 78.53975\n",
    "tool_from_diameter = MathTool.from_diameter(10)\n",
    "print(tool_from_diameter.radius)  # Output: 5.0\n",
    "print(MathTool.is_valid_radius(-1))  # Output: False"
   ]
  },
  {
   "cell_type": "markdown",
   "id": "4331d0ff",
   "metadata": {},
   "source": [
    "### **🔧 Problem Statement: Employee Management System**\n",
    "Create a class Employee that supports the following features:\n",
    "1. Initializes an employee with a name and salary.\n",
    "2. Provides a method to apply a 10% bonus to the employee’s current salary.\n",
    "3. Allows creation of an employee instance from a string in the format \"name-salary\".\n",
    "4. Checks if a given salary is valid (greater than 0)."
   ]
  },
  {
   "cell_type": "code",
   "execution_count": 18,
   "id": "ab3c1059",
   "metadata": {},
   "outputs": [
    {
     "name": "stdout",
     "output_type": "stream",
     "text": [
      "True\n",
      "Anas\n",
      "2000\n",
      "2200.0\n"
     ]
    }
   ],
   "source": [
    "class Employee:\n",
    "    def __init__(self, name, salary):\n",
    "        self.name = name\n",
    "        self.salary = salary\n",
    "\n",
    "    def applyBonus(self):\n",
    "        self.salary *= 1.10\n",
    "\n",
    "    @classmethod\n",
    "    def fromString(cls, inputString):\n",
    "        name, salary = inputString.split('-')\n",
    "        return cls(name, int(salary))\n",
    "    \n",
    "    @staticmethod\n",
    "    def validSalary(salary):\n",
    "        return salary > 0\n",
    "\n",
    "employee = Employee.fromString(\"Anas-2000\")\n",
    "print(Employee.validSalary(2000))\n",
    "\n",
    "print(employee.name) \n",
    "print(employee.salary)  \n",
    "\n",
    "employee.applyBonus()\n",
    "print(employee.salary)\n"
   ]
  },
  {
   "cell_type": "markdown",
   "id": "e62cc3ca",
   "metadata": {},
   "source": [
    "### **🚗 Problem: Car Rental System**"
   ]
  },
  {
   "cell_type": "code",
   "execution_count": 6,
   "id": "1038db31",
   "metadata": {},
   "outputs": [
    {
     "name": "stdout",
     "output_type": "stream",
     "text": [
      "True\n",
      "Toyota\n",
      "1500\n",
      "Rent:  7500\n"
     ]
    }
   ],
   "source": [
    "class Car:\n",
    "    def __init__(self, brand, price_per_day):\n",
    "        self.brand = brand\n",
    "        self.price_per_day = price_per_day\n",
    "    \n",
    "    def calculte_rent(self, days):\n",
    "        return self.price_per_day * days\n",
    "    \n",
    "    @classmethod\n",
    "    def from_string(cls, input_string):\n",
    "        brand, price_per_day = input_string.split(\"-\")\n",
    "        return cls(brand, int(price_per_day))\n",
    "    \n",
    "    @staticmethod\n",
    "    def valid_price(price):\n",
    "        return price > 0\n",
    "    \n",
    "print(Car.valid_price(1500))\n",
    "\n",
    "car = Car.from_string(\"Toyota-1500\")\n",
    "print(car.brand)\n",
    "print(car.price_per_day)\n",
    "\n",
    "print(\"Rent: \", car.calculte_rent(5))"
   ]
  }
 ],
 "metadata": {
  "kernelspec": {
   "display_name": "env3_10",
   "language": "python",
   "name": "python3"
  },
  "language_info": {
   "codemirror_mode": {
    "name": "ipython",
    "version": 3
   },
   "file_extension": ".py",
   "mimetype": "text/x-python",
   "name": "python",
   "nbconvert_exporter": "python",
   "pygments_lexer": "ipython3",
   "version": "3.10.16"
  }
 },
 "nbformat": 4,
 "nbformat_minor": 5
}
