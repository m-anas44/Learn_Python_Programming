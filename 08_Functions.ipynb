{
 "cells": [
  {
   "cell_type": "markdown",
   "metadata": {},
   "source": [
    "## **Introduction to Functions**\n",
    "To understand functions, let's consider an analogy. Imagine that a chef works in a restaurant, and he gets repeated orders of recipes. The chef has two options:\n",
    "\n",
    "- **Option 1:** He takes a recipe book, and every time he gets an order, he writes down the steps of that order and starts making the recipe.\n",
    "- **Option 2:** He writes down the recipe once and hangs it at one place. Whenever he gets an order for the same recipe, he simply follows the steps and makes the recipe.\n",
    "\n",
    "In the same way, when we need to do something repetitively in Python for a specific output, instead of writing the same lines of code again and again, we define a function. This function can be called whenever needed.\n",
    "\n",
    " \n",
    "\n",
    "## **Benefits of Functions**\n",
    "Using functions in programming offers several benefits:\n",
    "\n",
    "1. **Code Reusability:**\n",
    "    You do not need to rewrite the same code over and over again. Functions allow you to reuse the code, making your program more efficient.\n",
    "2. **Concise, Clean, and Modular Code:**\n",
    "    If you have multiple tasks to perform, you can create a function for each task. This makes the code more organized and easier to understand. For example, instead of writing 10 lines of code for 10 tasks, you can create functions for each and use them multiple times.\n",
    "3. **Error Reduction:**\n",
    "    When performing repetitive tasks, the chances of making mistakes increase. By using functions, you reduce the possibility of errors as you are calling the same code instead of re-writing it every time.\n",
    "\n",
    "## **How Functions Work**\n",
    "**Function Definition:**\n",
    "    To create a function in Python, you define it with a name, and it can take inputs (parameters) and produce outputs.\n",
    "**Example of a Function:**\n",
    "    Consider a juicer machine.\n",
    "- Input: A fruit.\n",
    "- Output: Juice made from that fruit.\n",
    "- You can use this machine repeatedly for different fruits to get juice, similar to how a function works with inputs and outputs."
   ]
  },
  {
   "cell_type": "markdown",
   "metadata": {},
   "source": []
  },
  {
   "cell_type": "markdown",
   "metadata": {},
   "source": [
    "# **Python Built-in Functions**\n",
    "Python provides many built-in functions to perform common tasks. Here are a few of them:"
   ]
  },
  {
   "cell_type": "markdown",
   "metadata": {},
   "source": [
    "#### 1. **len():**\n",
    "- Returns the length of an object (string, list, etc.)"
   ]
  },
  {
   "cell_type": "code",
   "execution_count": 1,
   "metadata": {},
   "outputs": [
    {
     "name": "stdout",
     "output_type": "stream",
     "text": [
      "6\n"
     ]
    }
   ],
   "source": [
    "text = \"Python\"\n",
    "print(len(text))"
   ]
  },
  {
   "cell_type": "markdown",
   "metadata": {},
   "source": [
    "#### 2. **max():**\n",
    "- Returns the maximum value from a list."
   ]
  },
  {
   "cell_type": "code",
   "execution_count": 2,
   "metadata": {},
   "outputs": [
    {
     "name": "stdout",
     "output_type": "stream",
     "text": [
      "5\n"
     ]
    }
   ],
   "source": [
    "numbers = [1, 2, 3, 4, 5]\n",
    "print(max(numbers))"
   ]
  },
  {
   "cell_type": "markdown",
   "metadata": {},
   "source": [
    "#### 3. **sorted():**\n",
    "- Sorts a list in ascending order."
   ]
  },
  {
   "cell_type": "code",
   "execution_count": 3,
   "metadata": {},
   "outputs": [
    {
     "name": "stdout",
     "output_type": "stream",
     "text": [
      "[3.5, 3.8, 4.2, 5.0]\n"
     ]
    }
   ],
   "source": [
    "ratings = [4.2, 3.5, 5.0, 3.8]\n",
    "print(sorted(ratings))"
   ]
  },
  {
   "cell_type": "markdown",
   "metadata": {},
   "source": [
    "#### 4. **range():**\n",
    "Generates a sequence of numbers."
   ]
  },
  {
   "cell_type": "code",
   "execution_count": 4,
   "metadata": {},
   "outputs": [
    {
     "name": "stdout",
     "output_type": "stream",
     "text": [
      "0\n",
      "1\n",
      "2\n",
      "3\n",
      "4\n"
     ]
    }
   ],
   "source": [
    "for i in range(5):\n",
    "    print(i)"
   ]
  },
  {
   "cell_type": "markdown",
   "metadata": {},
   "source": [
    "#### 5. **id():**\n",
    "- Returns the memory address of an object."
   ]
  },
  {
   "cell_type": "code",
   "execution_count": 5,
   "metadata": {},
   "outputs": [
    {
     "name": "stdout",
     "output_type": "stream",
     "text": [
      "2348810306064\n"
     ]
    }
   ],
   "source": [
    "x = 10\n",
    "print(id(x)) "
   ]
  },
  {
   "cell_type": "markdown",
   "metadata": {},
   "source": [
    "#### 6. **eval():**\n",
    "- Evaluates a string as a Python expression."
   ]
  },
  {
   "cell_type": "code",
   "execution_count": 6,
   "metadata": {},
   "outputs": [
    {
     "name": "stdout",
     "output_type": "stream",
     "text": [
      "11\n"
     ]
    }
   ],
   "source": [
    "expression = \"5 + 3 * 2\"\n",
    "result = eval(expression)\n",
    "print(result)"
   ]
  },
  {
   "cell_type": "markdown",
   "metadata": {},
   "source": [
    "## **Function Execution with Input and Output**\n",
    "Functions can take input and provide output. Here are some examples of how to use them effectively:\n",
    "\n",
    "**Input and Output Example:**\n",
    "If you want to display a message and take input from the user, you can use the input() function:\n",
    "```bash\n",
    "name = input(\"Enter your name: \")\n",
    "print(\"Hello\", name)\n",
    "```\n",
    "\n",
    "**Meaningful Messages:**\n",
    "It is important to display meaningful messages for better *readability* and *user experience*. For example:\n",
    "```bash\n",
    "print(f\"The length of the string is {len(name)}\")\n",
    "```\n",
    "\n",
    " \n",
    "\n",
    "## **Sorting and Evaluating Data**\n",
    "**sorted() Function:**\n",
    "By default, the sorted() function sorts numbers or lists in ascending order. However, you can also sort in descending order by specifying the reverse parameter:\n",
    "```bash\n",
    "ratings = [4.5, 3.0, 5.0, 4.0]\n",
    "print(sorted(ratings))  # Output: [3.0, 4.0, 4.5, 5.0]\n",
    "```\n",
    "\n",
    "**Using eval() for Mathematical Expressions:**\n",
    "If you have a mathematical expression in string form, you can use the eval() function to compute it:\n",
    "expression = \"5 + 3 * 2\"\n",
    "```bash\n",
    "result = eval(expression)\n",
    "print(result)  # Output: 11\n",
    "```\n",
    " \n",
    "\n",
    "## **Python Functions and Their Types**\n",
    "In Python, there are two types of functions:\n",
    "\n",
    "1. **Built-in Functions:**\n",
    "These are predefined functions provided by Python to perform common tasks. Examples include print(), input(), sorted(), max(), etc.\n",
    "\n",
    "2. **User-defined Functions:**\n",
    " These are functions that programmers define based on their requirements. For example, you might need to create a function to solve a unique problem in your program that isn’t covered by built-in functions.\n",
    "\n",
    "**User-Defined Functions Example:**\n",
    "```bash\n",
    "def greet(name):\n",
    "    print(f\"Hello, {name}!\")\n",
    " # To call this function:\n",
    "greet(\"Alice\")  # Output: Hello, Alice!\n",
    "```"
   ]
  },
  {
   "cell_type": "markdown",
   "metadata": {},
   "source": [
    "### **Key Concepts of User-Defined Functions**\n",
    "1. **Purpose of the Function**\n",
    "The first step in defining a function is deciding its purpose. A function must serve a specific task, which will guide its structure and behavior. For example, we may want a function to add two numbers and return their sum.\n",
    "2. **Naming the Function**\n",
    "Once the purpose is clear, we need to give the function a meaningful name. This name should reflect what the function does. For instance:\n",
    "- A function to add two numbers can be named add.\n",
    "- It is a best practice to use meaningful and descriptive names for clarity.\n",
    "3. **Defining Parameters**\n",
    "Functions often take input in the form of parameters. These are values that the function operates on. For our add function, the parameters would be the two numbers we want to add. Parameters are defined inside the parentheses after the function name:\n",
    "`def add(num1, num2):`\n",
    "4. **Function Logic**\n",
    "The next step is to define the logic that the function will execute. This could involve mathematical operations, string manipulations, or any other task the function is designed for. For the add function, the logic will add the two numbers together.\n",
    "\n",
    "5. **Returning the Output**\n",
    "Once the logic is executed, we need to specify what the function should return. In the case of the add function, we would return the sum of the two numbers. This is done using the return keyword:\n",
    "`return num1 + num2`\n",
    "\n",
    "**Example of a Complete Function**\n",
    "\n",
    "```bash\n",
    "def add(num1, num2):\n",
    "    print(\"Number 1:\", num1)\n",
    "    print(\"Number 2:\", num2)\n",
    "    addition = num1 + num2\n",
    "    return addition\n",
    "```\n",
    "\n",
    "6. **Calling the Function**\n",
    "Once a function is defined, it will not execute unless it is called. To call the function, we simply write its name followed by parentheses containing the required parameters:\n",
    "```bash\n",
    "result = add(2, 4)\n",
    "print(\"Result:\", result)\n",
    "```\n",
    "- In this example, the function add is called with the numbers 2 and 4. The result, which is the sum of these numbers (6), will be displayed.\n",
    "\n",
    "## Types of Function Parameters\n",
    "\n",
    "#### 1. Default Arguments\n",
    "Default arguments allow you to define a function with pre-assigned values. If the caller does not provide an argument, the default value is used.\n",
    "```bash\n",
    "def greet(name=\"John\"):\n",
    "    print(f\"Hello {name}\")\n",
    "\n",
    "greet()  # Output: Hello John\n",
    "greet(\"Alice\")  # Output: Hello Alice\n",
    "```\n",
    "\n",
    "#### 2. Keyword Arguments\n",
    "Keyword arguments allow the caller to specify arguments by name, ensuring they are matched correctly with parameters:\n",
    "```bash\n",
    "def greet(first_name, last_name):\n",
    "    print(f\"Hello {first_name} {last_name}\")\n",
    "\n",
    "greet(first_name=\"John\", last_name=\"Doe\")\n",
    "```\n",
    "\n",
    "#### 3. Variable Length Arguments\n",
    "In cases where the number of parameters is unknown, Python allows us to pass a variable number of arguments. These arguments are stored as a tuple.\n",
    "```bash\n",
    "def greet(*names):\n",
    "    for name in names:\n",
    "        print(f\"Hello {name}\")\n",
    "\n",
    "greet(\"John\", \"Alice\", \"Bob\")\n",
    "```\n",
    "\n",
    "### Return vs Print in Functions\n",
    "- **Print Statement:** Displays the result on the console. However, if a function only uses print without returning a value, it will not be possible to use the result outside of that function.\n",
    "- **Return Statement:** Allows the function to provide a result that can be stored in a variable and used later.\n",
    "\n",
    "#### Example with Print:\n",
    "```bash\n",
    "def greet():\n",
    "    print(\"Hello Python!\")\n",
    "\n",
    "greet()\n",
    "```\n",
    "#### Example with Return:\n",
    "```bash\n",
    "def greet():\n",
    "    return \"Hello Python!\"\n",
    "\n",
    "message = greet()\n",
    "print(message)\n",
    "```\n",
    "\n",
    "### Additional Function Examples\n",
    "#### Example 1: Basic Function with Return\n",
    "```bash\n",
    "def add(num1, num2):\n",
    "    return num1 + num2\n",
    "\n",
    "result = add(2, 4)\n",
    "print(\"Sum is:\", result)\n",
    "```\n",
    "#### Example 2: Function without Parameters\n",
    "```bash\n",
    "def greet():\n",
    "    print(\"Welcome to Python Programming!\")\n",
    "\n",
    "greet()  # Executes without any parameters\n",
    "```\n",
    "#### Example 3: Function with Default Parameters\n",
    "```bash\n",
    "def full_name(first_name=\"John\", last_name=\"Doe\"):\n",
    "    print(f\"Full Name: {first_name} {last_name}\")\n",
    "\n",
    "full_name()  # Uses default values\n",
    "full_name(\"Jane\")  # Overrides the first_name\n",
    "```"
   ]
  }
 ],
 "metadata": {
  "kernelspec": {
   "display_name": "env3_10",
   "language": "python",
   "name": "python3"
  },
  "language_info": {
   "codemirror_mode": {
    "name": "ipython",
    "version": 3
   },
   "file_extension": ".py",
   "mimetype": "text/x-python",
   "name": "python",
   "nbconvert_exporter": "python",
   "pygments_lexer": "ipython3",
   "version": "3.10.16"
  }
 },
 "nbformat": 4,
 "nbformat_minor": 2
}
